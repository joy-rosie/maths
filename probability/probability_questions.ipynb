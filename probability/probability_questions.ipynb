{
 "cells": [
  {
   "cell_type": "code",
   "execution_count": 1,
   "metadata": {},
   "outputs": [],
   "source": [
    "import pandas as pd\n",
    "\n",
    "%matplotlib inline\n",
    "from IPython.display import display\n",
    "import matplotlib.pyplot as plt"
   ]
  },
  {
   "cell_type": "markdown",
   "metadata": {},
   "source": [
    "Latex Commands\n",
    "$$\n",
    "\\newcommand{\\brac}[1]{\\left(#1\\right)}\n",
    "\\newcommand{\\sqbrac}[1]{\\left[#1\\right]}\n",
    "\\newcommand{\\curlbrac}[1]{\\left\\{#1\\right\\}}\n",
    "\\newcommand{\\pbrac}[1]{\\left\\langle#1\\right\\rangle}\n",
    "\\newcommand{\\diff}[2]{\\frac{d\\ifthenelse{\\equal{#1}{}}{}{#1}}{d#2}}\n",
    "\\newcommand{\\pardiff}[2]{\\frac{\\partial #1}{\\partial #2}}\n",
    "\\newcommand{\\abs}[1]{\\left\\lvert#1\\right\\rvert}\n",
    "\\newcommand{\\norm}[1]{\\left\\lVert#1\\right\\rVert}\n",
    "\\newcommand{\\normTwo}[1]{\\left\\lVert#1\\right\\rVert_2}\n",
    "\\newcommand{\\innerprod}[2]{\\pbrac{#1,#2}}\n",
    "\\newcommand{\\ceil}[1]{\\left\\lceil#1\\right\\rceil}\n",
    "\\newcommand{\\floor}[1]{\\left\\lfloor#1\\right\\rfloor}\n",
    "\\newcommand{\\E}[1]{\\mathbb{E}\\left[#1\\right]}\n",
    "\\newcommand{\\V}[1]{\\mathbb{V}\\left[#1\\right]}\n",
    "\\newcommand{\\F}[1]{\\mathcal{F}_{#1}}\n",
    "\\newcommand{\\N}{\\mathbb{N}}\n",
    "\\newcommand{\\R}{\\mathbb{R}}\n",
    "\\newcommand{\\C}{\\mathbb{C}}\n",
    "\\newcommand{\\Q}{\\mathbb{Q}}\n",
    "\\newcommand{\\Z}{\\mathbb{Z}}\n",
    "\\newcommand{\\W}{\\mathbb{W}}\n",
    "\\newcommand{\\prob}[1]{\\mathbb{P}\\left[#1\\right]}\n",
    "\\newcommand{\\ind}[1]{\\mathbbm{1}_{\\left\\{#1\\right\\}}}\n",
    "\\newcommand{\\real}[1]{\\mathbb{R}^{#1}}\n",
    "\\newcommand{\\vmin}[2]{#1 \\wedge #2}\n",
    "\\newcommand{\\repart}[1]{\\text{Re}\\brac{#1}}\n",
    "\\newcommand{\\impart}[1]{\\text{Im}\\brac{#1}}\n",
    "\\newcommand{\\normcdf}[1]{\\text{N}\\brac{#1}}\n",
    "\\newcommand{\\normpdf}[1]{\\text{N}'\\brac{#1}}\n",
    "\\newcommand{\\betahat}{\\hat{\\beta}}\n",
    "\\newcommand{\\argmin}{\\text{argmin}}\n",
    "\\newcommand{\\argmax}{\\text{argmax}}\n",
    "\\newcommand{\\DFE}{\\text{DFE}}\n",
    "\\newcommand{\\rsquared}{\\text{R}^2}\n",
    "\\newcommand{\\MSE}{\\text{MSE}}\n",
    "\\newcommand{\\normdist}[2]{\\text{N}\\brac{#1,#2}}\n",
    "\\newcommand{\\tdist}[1]{\\text{T}\\brac{#1}}\n",
    "\\newcommand{\\tstat}{\\text{T-stat}}\n",
    "\\newcommand{\\pval}{\\text{p-value}}\n",
    "\\newcommand{\\red}[1]{{\\color{red}#1}}\n",
    "\\newcommand{\\cyan}[1]{{\\color{cyan}#1}}\n",
    "\\newcommand{\\yellow}[1]{{\\color{yellow}#1}}\n",
    "\\newcommand{\\green}[1]{{\\color{green}#1}}\n",
    "\\newcommand{\\orange}[1]{{\\color{orange}#1}}\n",
    "$$"
   ]
  },
  {
   "cell_type": "markdown",
   "metadata": {},
   "source": [
    "## Probability Primer\n",
    "- $\\prob{A, B} = \\prob{A \\cap B}$\n",
    "- *Bayes Formula* \n",
    "$$\\prob{A|B} = \\frac{\\prob{A,B}}{\\prob{B}}$$\n",
    "- $\\prob{A\\cup B} = \\prob{A} + \\prob{B} - \\prob{A,B}$\n",
    "- *Indendence* Suppose $A$ and $B$ are independent then $\\prob{A|B} = \\prob{A}$ and using Bayes Formula:\n",
    "$$\\prob{A,B} = \\prob{A}\\cdot \\prob{B}$$\n",
    "- *Inclusion-Exclusion*\n",
    "$$\\prob{A \\cup B \\cup C} = \\prob{A} + \\prob{B} + \\prob{C} - \\prob{A, B} - \\prob{B, C} - \\prob{A, C} + \\prob{A, B, C}$$"
   ]
  },
  {
   "cell_type": "markdown",
   "metadata": {},
   "source": [
    "## Maths Primer"
   ]
  },
  {
   "cell_type": "markdown",
   "metadata": {},
   "source": [
    "### Quadratic Formula\n",
    "Suppose we have an equation with variable $x$ and $a, b, c \\in\\R$\n",
    "\n",
    "$$ax^2 + bx + c$$\n",
    "\n",
    "Then we have:\n",
    "\n",
    "$$ x = \\frac{-b\\pm\\sqrt{b^2-4ac}}{2a}$$"
   ]
  },
  {
   "cell_type": "markdown",
   "metadata": {},
   "source": [
    "### Geometric Sum\n",
    "Suppose we have $0<a<1$ then:\n",
    "\n",
    "$$\\sum_{r=0}^{n}a^r = \\frac{1-a^{n+1}}{1-a}$$\n",
    "\n",
    "$$\\sum_{r=0}^{\\infty}a^r = \\frac{1}{1-a}$$\n",
    "\n",
    "#### Proof\n",
    "Let $S = \\sum_{r=0}^{n}a^r$, then:\n",
    "\n",
    "$$\\begin{eqnarray}\n",
    "    S - aS \n",
    "    &=& \\sum_{r=0}^{n}a^r - a\\sum_{r=0}^{n}a^r \\\\\n",
    "    &=& \\sum_{r=0}^{n}a^r - \\sum_{r=0}^{n}a^{r+1} \\\\ \n",
    "    &=& \\sum_{r=0}^{n}a^r - \\sum_{r=1}^{n+1}a^{r} \\\\ \n",
    "    &=& 1 - a^{n+1}\n",
    "\\end{eqnarray}$$\n",
    "\n",
    "Therefore rearranging the above equation we get:\n",
    "\n",
    "$$ S = \\frac{1-a^{n+1}}{1-a} $$\n",
    "\n",
    "Finally, taking $n\\rightarrow \\infty$, we have the second result."
   ]
  },
  {
   "cell_type": "markdown",
   "metadata": {},
   "source": [
    "### Geometric Sum with Index\n",
    "\n",
    "Suppose we have $0<a<1$ then:\n",
    "\n",
    "$$\\sum_{r=0}^{n}ra^r = \\frac{1-a^{n+1}}{\\brac{1-a}^2} - \\frac{a^{n+1}\\brac{n+1}}{1-a}$$\n",
    "\n",
    "$$\\sum_{r=0}^{\\infty}ra^r = \\frac{1}{\\brac{1-a}^2}$$\n",
    "\n",
    "#### Proof\n",
    "Let $S = \\sum_{r=0}^{n}ra^r$, then:\n",
    "\n",
    "$$\\begin{eqnarray}\n",
    "    S - aS \n",
    "    &=& \\sum_{r=0}^{n}ra^r - a\\sum_{r=0}^{n}ra^r \\\\\n",
    "    &=& \\sum_{r=0}^{n}ra^r - \\sum_{r=0}^{n}ra^{r+1} \\\\ \n",
    "    &=& \\sum_{r=0}^{n}ra^r - \\sum_{r=1}^{n+1}\\brac{r-1}a^{r} \\\\ \n",
    "    &=& \\sum_{r=0}^{n}ra^r - \\sum_{r=1}^{n+1}ra^{r} + \\sum_{r=1}^{n+1}a^{r}\\\\\n",
    "    &=& 0 - \\brac{n+1}a^{n+1} + \\frac{1-a^{n+1}}{1-a}\n",
    "\\end{eqnarray}$$\n",
    "\n",
    "Therefore rearranging the above equation we get:\n",
    "\n",
    "$$\\begin{eqnarray}\n",
    "S \n",
    "&=& \\frac{1-a^{n+1}}{\\brac{1-a}^2} - \\frac{a^{n+1}\\brac{n+1}}{1-a}\n",
    "\\end{eqnarray}$$\n",
    "\n",
    "Finally, taking $n\\rightarrow \\infty$, we have the second result."
   ]
  },
  {
   "cell_type": "markdown",
   "metadata": {},
   "source": [
    "## Question 1 - The Sock Drawer\n",
    "A drawer contains red socks and black socks. When two socks are drawn at random, the probability that both are red is 0.5. (a) How small can the number of socks in the drawer be? (b) How small if the number of black socks is even?"
   ]
  },
  {
   "cell_type": "markdown",
   "metadata": {},
   "source": [
    "## Solution 1\n",
    "\n",
    "- Suppose we have $n_R$ number of red socks and $n_B$ number of black socks in a drawer.\n",
    "- When we pull a sock from the drawer our sample space is $\\curlbrac{R,B}$ so a red sock or a black sock\n",
    "- We define the random variables $S_1, S_2$ which are the first and second socks pulled from the drawer respectively\n",
    "- We know:\n",
    "\n",
    "$$\\prob{S_1 = R, S_2 = R} = 0.5$$\n",
    "\n",
    "- We can use Bayes Formula to rewrite the above because $S_2$ is dependent on $S_1$:\n",
    "\n",
    "$$ \\prob{S_1 = R, S_2 = R} = \\prob{S_2=R|S_1=R} \\cdot \\prob{S_1=R} $$\n",
    "\n",
    "- We want to find the smallest $n_R+n_B$ \n",
    "- We will need to note that $n_R$ and $n_B$ have to be positive integers\n",
    "- We can get a formula for $n_R$ in terms of $n_B$ using $\\prob{S_1=R}\\cdot\\prob{S_2=R|S_1=R}$\n",
    "- Once we have that as we know that $n_R$ and $n_B$ are integers, we can plug in positive integers for $n_B$ starting from zero until we have $n_R$ as a positive integer.\n",
    "- Similarly for the second part, we will plug in $n_B=2n$ where $n$ is a postitve integer\n",
    "\n",
    "\n",
    "Let us start by writing $\\prob{S_1=R}\\cdot\\prob{S_2=R|S_1=R}$ in terms of $n_R$ and $n_B$:\n",
    "\n",
    "$$\\begin{eqnarray} \n",
    "    \\prob{S_1=R}\\cdot\\prob{S_2=R|S_1=R}\n",
    "    &=& \\frac{n_R}{n_R+n_B}\\cdot\\frac{n_R-1}{n_R+n_B-1} \\\\\n",
    "    &=& 0.5\n",
    "\\end{eqnarray}$$\n",
    "Therefore we have the quadratic equation:\n",
    "$$\\begin{eqnarray}\n",
    "    2n_R\\brac{n_R-1} &=& \\brac{n_R+n_B}\\brac{n_R+n_B-1} \\\\\n",
    "    &\\Updownarrow& \\\\\n",
    "    2n_R^2 - 2n_R &=& n_R^2 + 2n_R n_B + n_B^2 - n_R - n_B \\\\\n",
    "    &\\Updownarrow& \\\\\n",
    "    n_R^2 -n_R\\brac{2n_B + 1} + n_B -n_B^2 &=& 0\n",
    "\\end{eqnarray}$$\n",
    "Using quadratic formula we get:\n",
    "$$\\begin{eqnarray}\n",
    "    n_R \n",
    "    &=& \\frac{\\brac{2n_B+1}\\pm\\sqrt{\\brac{2n_B+1}^2 - 4\\brac{n_B-n_B^2}}}{2} \\\\\n",
    "    &=& \\frac{\\brac{2n_B+1}\\pm\\sqrt{4n_B^2 + 4n_B + 1 -4n_B + 4n_B^2}}{2} \\\\\n",
    "    &=& \\frac{\\brac{2n_B+1}\\pm\\sqrt{8n_B^2 + 1}}{2} \\\\\n",
    "\\end{eqnarray}$$\n",
    "    \n",
    "We know that $n_R$ and $n_B$ must be integers. Therefore let us plug in $n_B=1$ then $n_R=3$ then the smallest $n_R+n_B$ is 4.\n",
    "\n",
    "Now suppose $n_B$ is even. Then if we start plugging numbers for $n$ where $B=2n$:\n",
    "\n",
    "$$ n_R =  \\frac{\\brac{4n+1}\\pm\\sqrt{32n^2 + 1}}{2} $$\n",
    "\n",
    "We will get that $n=3$ so $n_B = 6$ and so $n_R+n_B$ = 21."
   ]
  },
  {
   "cell_type": "code",
   "execution_count": 2,
   "metadata": {},
   "outputs": [
    {
     "data": {
      "text/html": [
       "<div>\n",
       "<style scoped>\n",
       "    .dataframe tbody tr th:only-of-type {\n",
       "        vertical-align: middle;\n",
       "    }\n",
       "\n",
       "    .dataframe tbody tr th {\n",
       "        vertical-align: top;\n",
       "    }\n",
       "\n",
       "    .dataframe thead th {\n",
       "        text-align: right;\n",
       "    }\n",
       "</style>\n",
       "<table border=\"1\" class=\"dataframe\">\n",
       "  <thead>\n",
       "    <tr style=\"text-align: right;\">\n",
       "      <th></th>\n",
       "      <th>n_A_pos</th>\n",
       "      <th>n_A_neg</th>\n",
       "      <th>is_int</th>\n",
       "    </tr>\n",
       "    <tr>\n",
       "      <th>n_B</th>\n",
       "      <th></th>\n",
       "      <th></th>\n",
       "      <th></th>\n",
       "    </tr>\n",
       "  </thead>\n",
       "  <tbody>\n",
       "    <tr>\n",
       "      <th>0</th>\n",
       "      <td>1.000000</td>\n",
       "      <td>0.000000</td>\n",
       "      <td>True</td>\n",
       "    </tr>\n",
       "    <tr>\n",
       "      <th>1</th>\n",
       "      <td>3.000000</td>\n",
       "      <td>0.000000</td>\n",
       "      <td>True</td>\n",
       "    </tr>\n",
       "    <tr>\n",
       "      <th>2</th>\n",
       "      <td>5.372281</td>\n",
       "      <td>-0.372281</td>\n",
       "      <td>False</td>\n",
       "    </tr>\n",
       "    <tr>\n",
       "      <th>3</th>\n",
       "      <td>7.772002</td>\n",
       "      <td>-0.772002</td>\n",
       "      <td>False</td>\n",
       "    </tr>\n",
       "    <tr>\n",
       "      <th>4</th>\n",
       "      <td>10.178908</td>\n",
       "      <td>-1.178908</td>\n",
       "      <td>False</td>\n",
       "    </tr>\n",
       "  </tbody>\n",
       "</table>\n",
       "</div>"
      ],
      "text/plain": [
       "       n_A_pos   n_A_neg  is_int\n",
       "n_B                             \n",
       "0     1.000000  0.000000    True\n",
       "1     3.000000  0.000000    True\n",
       "2     5.372281 -0.372281   False\n",
       "3     7.772002 -0.772002   False\n",
       "4    10.178908 -1.178908   False"
      ]
     },
     "metadata": {},
     "output_type": "display_data"
    },
    {
     "data": {
      "text/plain": [
       "<matplotlib.legend.Legend at 0x7f53948f8940>"
      ]
     },
     "execution_count": 2,
     "metadata": {},
     "output_type": "execute_result"
    },
    {
     "data": {
      "image/png": "[encoded data removed]",
      "text/plain": [
       "<Figure size 432x288 with 1 Axes>"
      ]
     },
     "metadata": {
      "needs_background": "light"
     },
     "output_type": "display_data"
    }
   ],
   "source": [
    "# TODO - Need to look at $B=0$\n",
    "\n",
    "df = pd.DataFrame(dict(n_B=range(0, 41), n_A_pos=pd.np.nan, n_A_neg=pd.np.nan))\n",
    "df['n_A_pos'] = 0.5 * ((2 * df['n_B'] + 1) + pd.np.sqrt(8 * df['n_B'] ** 2 + 1))\n",
    "df['n_A_neg'] = 0.5 * ((2 * df['n_B'] + 1) - pd.np.sqrt(8 * df['n_B'] ** 2 + 1))\n",
    "df['is_int'] = df['n_A_pos'].apply(lambda x: x % 1 == 0)\n",
    "\n",
    "display(df.set_index('n_B', drop=True).head())\n",
    "\n",
    "ax = plt.subplot()\n",
    "df.loc[~df['is_int']].plot(x='n_B', y='n_A_pos', kind='scatter', grid=True, ax=ax)\n",
    "df.loc[df['is_int']].plot(x='n_B', y='n_A_pos', kind='scatter', grid=True, color='r', ax=ax)\n",
    "ax.legend(['Non Integers', 'Integers'])"
   ]
  },
  {
   "cell_type": "markdown",
   "metadata": {},
   "source": [
    "## Notes 1\n",
    "1) \n",
    "- Suppose $p_1, p_2$ are the proportions of red socks to total socks in the first draw and the second draw respectively\n",
    "- If $p_1 \\cdot p_2 = p$ where $p<1$ then we have that $p<p_1,p_2<1$\n",
    "- In our case $p=0.5$, therefore in both draws, there have to be more red socks than black socks"
   ]
  },
  {
   "cell_type": "markdown",
   "metadata": {},
   "source": [
    "## Question 2 - Successive Wins\n",
    "\n",
    "To encourage Elmer's promising tennis career, his father offers him a prize if he wins (at least) two tennis sets in a row in a three-set series to be played with his fther and the club champion alternatively: father-champion-father or champion-father-champion, according to Elmer's choice. Where series should Elmer choose?"
   ]
  },
  {
   "cell_type": "markdown",
   "metadata": {},
   "source": [
    "## Solution 2\n",
    "\n",
    "- We define our space space as win or lose a game ${W, L}$ and define random variables $G_F, G_C$ which are game against father and champion\n",
    "- Suppose that the probability of Elmer winning a game against his father is $\\prob{G_F=W} = p$ and against the champion is $\\prob{G_C=W} = q$\n",
    "- We assume the probability of winning a game is independent of any other game\n",
    "- We will abstract our random variables to $G_1, G_2 and G_3$ representing the three games where in father-champion-father case we have $G_1=G_F, G_2=G_C, G_3=G_F$ otherwise in champion-father-champion case we have $G_1=G_C, G_2=G_F, G_3=G_C$"
   ]
  },
  {
   "cell_type": "markdown",
   "metadata": {},
   "source": [
    "### Method 1\n",
    "- We have the following possibilities:\n",
    "\n",
    "    1) $\\red{{\\curlbrac{G_1=W, G_2=W, G_3=W}}}$\n",
    "    \n",
    "    2) $\\red{{\\curlbrac{G_1=W, G_2=W, G_3=L}}}$\n",
    "    \n",
    "    3) $\\curlbrac{G_1=W, G_2=L, G_3=W}$\n",
    "    \n",
    "    4) $\\curlbrac{G_1=W, G_2=L, G_3=L}$\n",
    "    \n",
    "    5) $\\red{{\\curlbrac{G_1=L, G_2=W, G_3=W}}}$\n",
    "    \n",
    "    6) $\\curlbrac{G_1=L, G_2=W, G_3=L}$\n",
    "    \n",
    "    7) $\\curlbrac{G_1=L, G_2=L, G_3=W}$\n",
    "    \n",
    "    8) $\\curlbrac{G_1=L, G_2=L, G_3=L}$\n",
    "\n",
    "\n",
    "- We want to be in one of 1, 2 and 5 hence we want te maximum probability for that, therefore:\n",
    "\n",
    "$$\\begin{eqnarray}\n",
    "\\prob{\\text{Prize}|G_1=G_F, G_2=G_C, G_3=G_F} \n",
    "&=& \\prob{\\curlbrac{G_1=W, G_2=W, G_3=W}} + \\prob{\\curlbrac{G_1=W, G_2=W, G_3=L}} + \\cdots \\\\ &&\\cdots+\\prob{\\curlbrac{G_1=L, G_2=W, G_3=W}}\\\\\n",
    "&=& p^2q + pq(1-p) + (1-p)qp\\\\\n",
    "&=& pq(p + 1 - p + 1 - p)\\\\\n",
    "&=& pq(2-p)\n",
    "\\end{eqnarray}$$"
   ]
  },
  {
   "cell_type": "markdown",
   "metadata": {},
   "source": [
    "### Method 2\n",
    "- We have two possibilities of winning in each case:\n",
    "\n",
    "$$\\begin{eqnarray}\n",
    "\\prob{\\text{Prize}} &=& \\prob{\\curlbrac{G_1=W, G_2=W} \\cup \\curlbrac{G_2=W, G_3=W}}\\\\\n",
    "&=& \\prob{\\curlbrac{G_1=W, G_2=W}} + \\prob{\\curlbrac{G_2=W, G_3=W}} - \\prob{\\curlbrac{G_1=W, G_2=W} \\cap \\curlbrac{G_2=W, G_3=W}}\\\\\n",
    "&=& \\prob{\\curlbrac{G_1=W, G_2=W}} + \\prob{\\curlbrac{G_2=W, G_3=W}} - \\prob{\\curlbrac{G_1=W, G_2=W, G_3=W}}\n",
    "\\end{eqnarray}$$\n",
    "\n",
    "- In the case where $G_1=G_F, G_2=G_C, G_3=G_F$:\n",
    "\n",
    "$$\\begin{eqnarray}\n",
    "\\prob{\\text{Prize}|G_1=G_F, G_2=G_C, G_3=G_F} &=& \\prob{\\curlbrac{G_1=W, G_2=W} \\cup \\curlbrac{G_2=W, G_3=W}} \\\\\n",
    "&=& pq + qp - p^2q\\\\\n",
    "&=& pq(2-p)\n",
    "\\end{eqnarray}$$"
   ]
  },
  {
   "cell_type": "markdown",
   "metadata": {},
   "source": [
    "## Solution 2 Continued\n",
    "\n",
    "Similarly swapping father and champion:\n",
    "\n",
    "$$\\begin{eqnarray}\n",
    "\\prob{\\text{Prize}|G_1=G_C, G_2=G_F, G_3=G_C} \n",
    "= pq(2-q)\n",
    "\\end{eqnarray}$$\n",
    "\n",
    "We want to check when:\n",
    "\n",
    "$$\\begin{eqnarray}\n",
    "    \\prob{\\text{Prize}|G_1=G_F, G_2=G_C, G_3=G_F} &\\geq& \\prob{\\text{Prize}|G_1=G_C, G_2=G_F, G_3=G_C}\\\\\n",
    "    &\\Updownarrow&\\\\\n",
    "    pq(2-p) &\\geq& pq(2-q)\\\\\n",
    "    &\\Updownarrow&\\\\\n",
    "    2-p &\\geq& 2-q\\\\\n",
    "    &\\Updownarrow&\\\\\n",
    "    q &\\geq& p\n",
    "\\end{eqnarray}$$"
   ]
  },
  {
   "cell_type": "markdown",
   "metadata": {},
   "source": [
    "## Notes 2\n",
    "- Therefore, if the probability of winning against the father is lower than the champion then you want to play father-champion-father and champion-father-champion if the probability of winning agaisnt the champion is lower than the father\n",
    "- It is important to note that the solution can seem counterintuitive:\n",
    "    - If we suppose that it is easier to win against the father than the champion then we would want to play against the champion the least amount and the father the most\n",
    "    - However, the key here is that we need to win two games *in a row* which means that if you want to win the prize then you *have to* win the middle game\n",
    "    - Meaning that it is better to put the player you can win against more easily in the middle even if it means that you have to play the champion more times"
   ]
  },
  {
   "cell_type": "markdown",
   "metadata": {},
   "source": [
    "## Question 3 - The Flippant Juror\n",
    "\n",
    "A three person jury has two members each of whom independently has probability $p$ of making the correct decision and a third member who flips a coin for each decision (majority rules). A one person jury has probability $p$ of making a correct decision. Which jury has the better probability of making the correct decision?"
   ]
  },
  {
   "cell_type": "markdown",
   "metadata": {},
   "source": [
    "## Solution 3\n",
    "Let us label the people in our three person jury as $J^3_1, J^3_2, J^3_3$ and the person in the one person jury as $J^1_1$. Our outcome space is $\\curlbrac{1,0}$ where $1$ means the person made the correct decision and $0$ incorrect. \n",
    "- We have that $\\prob{J^1_1 = 1} = p$\n",
    "- For the three person jury we have the following outcomes:\n",
    "    \n",
    "    1) $\\red{{\\curlbrac{J^3_1=1, J^3_2=1, J^3_3 = 1}}}$\n",
    "    \n",
    "    2) $\\red{{\\curlbrac{J^3_1=1, J^3_2=1, J^3_3 = 0}}}$\n",
    "    \n",
    "    3) $\\red{{\\curlbrac{J^3_1=1, J^3_2=0, J^3_3 = 1}}}$\n",
    "    \n",
    "    4) $\\curlbrac{J^3_1=1, J^3_2=0, J^3_3 = 0}$\n",
    "    \n",
    "    5) $\\red{{\\curlbrac{J^3_1=0, J^3_2=1, J^3_3 = 1}}}$\n",
    "    \n",
    "    6) $\\curlbrac{J^3_1=0, J^3_2=1, J^3_3 = 1}$\n",
    "    \n",
    "    7) $\\curlbrac{J^3_1=0, J^3_2=0, J^3_3 = 1}$\n",
    "    \n",
    "    8) $\\curlbrac{J^3_1=0, J^3_2=0, J^3_3 = 0}$\n",
    "\n",
    "\n",
    "- Therefore, the probability of getting the correct decision is:\n",
    "\n",
    "$$\\begin{eqnarray}\n",
    "    \\prob{\\text{Three Person Jury Correct}} &=& \\prob{J^3_1=1, J^3_2=1, J^3_3 = 1} + \\prob{J^3_1=1, J^3_2=1, J^3_3 = 0} + \\cdots \\\\ \n",
    "    && \\cdots + \\prob{J^3_1=1, J^3_2=0, J^3_3 = 1} + \\prob{J^3_1=0, J^3_2=1, J^3_3 = 1}\\\\\n",
    "    &=& p\\cdot p\\cdot \\frac{1}{2} + p\\cdot p\\cdot \\frac{1}{2} + p\\cdot \\brac{1-p} \\cdot \\frac{1}{2} + \\brac{1-p}\\cdot p\\cdot\\frac{1}{2} \\\\\n",
    "    &=& p^2 + p\\brac{1-p} \\\\\n",
    "    &=& p\n",
    "\\end{eqnarray}$$\n",
    "\n",
    "- Therefore, the probability of either jury getting to the correct decision is the same"
   ]
  },
  {
   "cell_type": "markdown",
   "metadata": {},
   "source": [
    "### Notes 3\n",
    "- It is interesting that when there are triple the number of people in the jury and only one flips a coin then it is the same as having a one person jury\n",
    "- Generalise this so figure out how many people are needed on a jury to counteract $n$ people flipping a coin"
   ]
  },
  {
   "cell_type": "markdown",
   "metadata": {},
   "source": [
    "## Question 4 - Trials until First Success\n",
    "On the average, how many times must a die be thrown until one gets a 6?"
   ]
  },
  {
   "cell_type": "markdown",
   "metadata": {},
   "source": [
    "## Solution 4\n",
    "\n",
    "- Let $D_t$ be a random variable for all $t\\in\\N$ with the sample space $\\curlbrac{1,2,3,4,5,6}$ where for all $t\\in\\N$:\n",
    "\n",
    "$$ \\prob{D_t=d} = \\frac{1}{6} \\text{ for all } d \\in\\curlbrac{1,2,3,4,5,6}$$\n",
    "\n",
    "- Let $\\tau$ be the stopping time such that:\n",
    "\n",
    "$$\\tau = \\inf\\curlbrac{t:D_t = 6}$$"
   ]
  },
  {
   "cell_type": "markdown",
   "metadata": {},
   "source": [
    "### Method 1\n",
    "\n",
    "$$\\begin{eqnarray}\n",
    "    \\E{\\tau} \n",
    "    &=& \\E{\\tau\\cap\\brac{\\curlbrac{D_1=6}\\cup\\curlbrac{D_1\\neq6}}} \\\\\n",
    "    &=& \\E{\\tau|D_1=6}\\cdot\\prob{D_1=6} + \\brac{\\E{\\tau|D_1\\neq 6}+1}\\cdot\\prob{D_1\\neq 6} \\\\\n",
    "    &=& 1\\cdot\\frac{1}{6} + \\E{\\tau}\\cdot\\frac{5}{6} + 1\\cdot\\frac{5}{6}\\\\\n",
    "    &\\Updownarrow& \\\\\n",
    "    \\frac{1}{6} \\E{\\tau} &=& 1\\\\\n",
    "    &\\Updownarrow& \\\\\n",
    "    \\E{\\tau} &=& 6\n",
    "\\end{eqnarray}$$"
   ]
  },
  {
   "cell_type": "markdown",
   "metadata": {},
   "source": [
    "### Method 2\n",
    "\n",
    "- Therefore we want to find $\\E{\\tau}$:\n",
    "\n",
    "$$\\begin{eqnarray}\n",
    "    \\E{\\tau}\n",
    "    &=& \\sum_{t=1}^{\\infty}t\\cdot\\prob{\\tau = t} \\\\\n",
    "    &=& \\sum_{t=1}^{\\infty}\\brac{t\\cdot\\prob{D_t=6}\\cdot\\prod_{s<t}\\prob{D_s\\neq6}} \\\\\n",
    "    &=& \\sum_{t=1}^{\\infty}t\\cdot\\frac{1}{6}\\cdot\\brac{\\frac{5}{6}}^{t-1} \\\\\n",
    "    &=& \\frac{1}{6}\\brac{\\sum_{t=0}^{\\infty}(t+1)\\cdot\\brac{\\frac{5}{6}}^{t}} \\\\\n",
    "    &=& \\frac{1}{6}\\brac{\\sum_{t=0}^{\\infty}\\brac{\\frac{5}{6}}^{t} + \\sum_{t=0}^{\\infty}t\\cdot\\brac{\\frac{5}{6}}^{t}} \\\\\n",
    "    %\\text{Using [link](#Geometric-Sum) and [link](#Geometric-Sum-With-Index)}\n",
    "    &=& \\frac{1}{6}\\brac{\\frac{1}{1-\\frac{5}{6}} + \\frac{1}{\\brac{1-\\frac{5}{6}}^2}} \\\\\n",
    "    &=& \\frac{1}{6}\\brac{6 + 36} \\\\\n",
    "    &=& 6\n",
    "\\end{eqnarray}$$"
   ]
  }
 ],
 "metadata": {
  "kernelspec": {
   "display_name": "Python 3",
   "language": "python",
   "name": "python3"
  },
  "language_info": {
   "codemirror_mode": {
    "name": "ipython",
    "version": 3
   },
   "file_extension": ".py",
   "mimetype": "text/x-python",
   "name": "python",
   "nbconvert_exporter": "python",
   "pygments_lexer": "ipython3",
   "version": "3.7.3"
  }
 },
 "nbformat": 4,
 "nbformat_minor": 2
}
