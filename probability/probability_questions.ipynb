{
 "cells": [
  {
   "cell_type": "code",
   "execution_count": 1,
   "metadata": {},
   "outputs": [],
   "source": [
    "import pandas as pd\n",
    "\n",
    "%matplotlib inline\n",
    "from IPython.display import display\n",
    "import matplotlib.pyplot as plt"
   ]
  },
  {
   "cell_type": "markdown",
   "metadata": {},
   "source": [
    "### Unfinished Solutions:\n",
    "- [15](#Solution-15)"
   ]
  },
  {
   "cell_type": "markdown",
   "metadata": {},
   "source": [
    "Latex Commands\n",
    "$$\n",
    "%\\usepackage{amsmath}\n",
    "\\newcommand{\\brac}[1]{\\left(#1\\right)}\n",
    "\\newcommand{\\sqbrac}[1]{\\left[#1\\right]}\n",
    "\\newcommand{\\curlbrac}[1]{\\left\\{#1\\right\\}}\n",
    "\\newcommand{\\pbrac}[1]{\\left\\langle#1\\right\\rangle}\n",
    "\\newcommand{\\diff}[2]{\\frac{d\\ifthenelse{\\equal{#1}{}}{}{#1}}{d#2}}\n",
    "\\newcommand{\\pardiff}[2]{\\frac{\\partial #1}{\\partial #2}}\n",
    "\\newcommand{\\abs}[1]{\\left\\lvert#1\\right\\rvert}\n",
    "\\newcommand{\\norm}[1]{\\left\\lVert#1\\right\\rVert}\n",
    "\\newcommand{\\normTwo}[1]{\\left\\lVert#1\\right\\rVert_2}\n",
    "\\newcommand{\\innerprod}[2]{\\pbrac{#1,#2}}\n",
    "\\newcommand{\\ceil}[1]{\\left\\lceil#1\\right\\rceil}\n",
    "\\newcommand{\\floor}[1]{\\left\\lfloor#1\\right\\rfloor}\n",
    "\\newcommand{\\E}[1]{\\mathbb{E}\\left[#1\\right]}\n",
    "\\newcommand{\\V}[1]{\\mathbb{V}\\left[#1\\right]}\n",
    "\\newcommand{\\F}[1]{\\mathcal{F}_{#1}}\n",
    "\\newcommand{\\N}{\\mathbb{N}}\n",
    "\\newcommand{\\R}{\\mathbb{R}}\n",
    "\\newcommand{\\C}{\\mathbb{C}}\n",
    "\\newcommand{\\Q}{\\mathbb{Q}}\n",
    "\\newcommand{\\Z}{\\mathbb{Z}}\n",
    "\\newcommand{\\W}{\\mathbb{W}}\n",
    "\\newcommand{\\prob}[1]{\\mathbb{P}\\left[#1\\right]}\n",
    "\\newcommand{\\ind}[1]{\\mathbbm{1}_{\\left\\{#1\\right\\}}}\n",
    "\\newcommand{\\real}[1]{\\mathbb{R}^{#1}}\n",
    "\\newcommand{\\vmin}[2]{#1 \\wedge #2}\n",
    "\\newcommand{\\repart}[1]{\\text{Re}\\brac{#1}}\n",
    "\\newcommand{\\impart}[1]{\\text{Im}\\brac{#1}}\n",
    "\\newcommand{\\normcdf}[1]{\\text{N}\\brac{#1}}\n",
    "\\newcommand{\\normpdf}[1]{\\text{N}'\\brac{#1}}\n",
    "\\newcommand{\\betahat}{\\hat{\\beta}}\n",
    "\\newcommand{\\argmin}{\\text{argmin}}\n",
    "\\newcommand{\\argmax}{\\text{argmax}}\n",
    "\\newcommand{\\DFE}{\\text{DFE}}\n",
    "\\newcommand{\\rsquared}{\\text{R}^2}\n",
    "\\newcommand{\\MSE}{\\text{MSE}}\n",
    "\\newcommand{\\normdist}[2]{\\text{N}\\brac{#1,#2}}\n",
    "\\newcommand{\\tdist}[1]{\\text{T}\\brac{#1}}\n",
    "\\newcommand{\\tstat}{\\text{T-stat}}\n",
    "\\newcommand{\\pval}{\\text{p-value}}\n",
    "\\newcommand{\\red}[1]{{\\color{red}#1}}\n",
    "\\newcommand{\\cyan}[1]{{\\color{cyan}#1}}\n",
    "\\newcommand{\\yellow}[1]{{\\color{yellow}#1}}\n",
    "\\newcommand{\\green}[1]{{\\color{green}#1}}\n",
    "\\newcommand{\\orange}[1]{{\\color{orange}#1}}\n",
    "$$"
   ]
  },
  {
   "cell_type": "markdown",
   "metadata": {},
   "source": [
    "## Probability Primer\n",
    "- $\\prob{A, B} = \\prob{A \\cap B}$\n",
    "- **Bayes Formula**\n",
    "$$\\prob{A|B} = \\frac{\\prob{A,B}}{\\prob{B}}$$\n",
    "- $\\prob{A\\cup B} = \\prob{A} + \\prob{B} - \\prob{A,B}$\n",
    "- **Indendence** Suppose $A$ and $B$ are independent then $\\prob{A|B} = \\prob{A}$ and using Bayes Formula:\n",
    "$$\\prob{A,B} = \\prob{A}\\cdot \\prob{B}$$\n",
    "- Add $\\prob{X} = \\sum_{y\\in\\Omega}\\prob{X,Y=y}$\n",
    "- **Inclusion-Exclusion**\n",
    "$$\\prob{A \\cup B \\cup C} = \\prob{A} + \\prob{B} + \\prob{C} - \\prob{A, B} - \\prob{B, C} - \\prob{A, C} + \\prob{A, B, C}$$\n",
    "- **Expectation**\n",
    "    - Suppose that $X$ is a random variable with the sample space $\\Omega$ then:\n",
    "$$\\E{X} = \\sum_{x\\in\\Omega}x\\cdot\\prob{X=x}$$\n",
    "- Add $\\E{X} = \\sum_{y\\in\\Omega}\\E{X|Y=y}\\cdot\\prob{Y=y}$\n",
    "\n",
    "- **Binomial Distribution**\n",
    "    - Suppose that $X$ is distributed with $\\text{Binomial}\\brac{n,p}$ then we have:\n",
    "$$\\prob{X=k} = {n\\choose k}\\cdot p^k\\cdot\\brac{1-p}^{n-k}$$"
   ]
  },
  {
   "cell_type": "markdown",
   "metadata": {},
   "source": [
    "## Maths Primer"
   ]
  },
  {
   "cell_type": "markdown",
   "metadata": {},
   "source": [
    "### Quadratic Formula\n",
    "Suppose we have an equation with variable $x$ and $a, b, c \\in\\R$\n",
    "\n",
    "$$ax^2 + bx + c$$\n",
    "\n",
    "Then we have:\n",
    "\n",
    "$$ x = \\frac{-b\\pm\\sqrt{b^2-4ac}}{2a}$$"
   ]
  },
  {
   "cell_type": "markdown",
   "metadata": {},
   "source": [
    "### Geometric Sum\n",
    "Suppose we have $0<a<1$ then:\n",
    "\n",
    "$$\\sum_{r=0}^{n}a^r = \\frac{1-a^{n+1}}{1-a}$$\n",
    "\n",
    "$$\\sum_{r=0}^{\\infty}a^r = \\frac{1}{1-a}$$\n",
    "\n",
    "#### Proof\n",
    "Let $S = \\sum_{r=0}^{n}a^r$, then:\n",
    "\n",
    "$$\\begin{eqnarray}\n",
    "    S - aS \n",
    "    &=& \\sum_{r=0}^{n}a^r - a\\sum_{r=0}^{n}a^r \\\\\n",
    "    &=& \\sum_{r=0}^{n}a^r - \\sum_{r=0}^{n}a^{r+1} \\\\ \n",
    "    &=& \\sum_{r=0}^{n}a^r - \\sum_{r=1}^{n+1}a^{r} \\\\ \n",
    "    &=& 1 - a^{n+1}\n",
    "\\end{eqnarray}$$\n",
    "\n",
    "Therefore rearranging the above equation we get:\n",
    "\n",
    "$$ S = \\frac{1-a^{n+1}}{1-a} $$\n",
    "\n",
    "Finally, taking $n\\rightarrow \\infty$, we have the second result."
   ]
  },
  {
   "cell_type": "markdown",
   "metadata": {},
   "source": [
    "### Geometric Sum with Index\n",
    "\n",
    "Suppose we have $0<a<1$ then:\n",
    "\n",
    "$$\\sum_{r=0}^{n}ra^r = \\frac{1-a^{n+1}}{\\brac{1-a}^2} - \\frac{a^{n+1}\\brac{n+1}}{1-a}$$\n",
    "\n",
    "$$\\sum_{r=0}^{\\infty}ra^r = \\frac{1}{\\brac{1-a}^2}$$\n",
    "\n",
    "#### Proof\n",
    "Let $S = \\sum_{r=0}^{n}ra^r$, then:\n",
    "\n",
    "$$\\begin{eqnarray}\n",
    "    S - aS \n",
    "    &=& \\sum_{r=0}^{n}ra^r - a\\sum_{r=0}^{n}ra^r \\\\\n",
    "    &=& \\sum_{r=0}^{n}ra^r - \\sum_{r=0}^{n}ra^{r+1} \\\\ \n",
    "    &=& \\sum_{r=0}^{n}ra^r - \\sum_{r=1}^{n+1}\\brac{r-1}a^{r} \\\\ \n",
    "    &=& \\sum_{r=0}^{n}ra^r - \\sum_{r=1}^{n+1}ra^{r} + \\sum_{r=1}^{n+1}a^{r}\\\\\n",
    "    &=& 0 - \\brac{n+1}a^{n+1} + \\frac{1-a^{n+1}}{1-a}\n",
    "\\end{eqnarray}$$\n",
    "\n",
    "Therefore rearranging the above equation we get:\n",
    "\n",
    "$$\\begin{eqnarray}\n",
    "S \n",
    "&=& \\frac{1-a^{n+1}}{\\brac{1-a}^2} - \\frac{a^{n+1}\\brac{n+1}}{1-a}\n",
    "\\end{eqnarray}$$\n",
    "\n",
    "Finally, taking $n\\rightarrow \\infty$, we have the second result."
   ]
  },
  {
   "cell_type": "markdown",
   "metadata": {},
   "source": [
    "## Question 1 - The Sock Drawer\n",
    "A drawer contains red socks and black socks. When two socks are drawn at random, the probability that both are red is 0.5. (a) How small can the number of socks in the drawer be? (b) How small if the number of black socks is even?"
   ]
  },
  {
   "cell_type": "markdown",
   "metadata": {},
   "source": [
    "## Solution 1\n",
    "\n",
    "- Suppose we have $n_R$ number of red socks and $n_B$ number of black socks in a drawer.\n",
    "- When we pull a sock from the drawer our sample space is $\\curlbrac{R,B}$ so a red sock or a black sock\n",
    "- We define the random variables $S_1, S_2$ which are the first and second socks pulled from the drawer respectively\n",
    "- We know:\n",
    "\n",
    "$$\\prob{S_1 = R, S_2 = R} = 0.5$$\n",
    "\n",
    "- We can use Bayes Formula to rewrite the above because $S_2$ is dependent on $S_1$:\n",
    "\n",
    "$$ \\prob{S_1 = R, S_2 = R} = \\prob{S_2=R|S_1=R} \\cdot \\prob{S_1=R} $$\n",
    "\n",
    "- We want to find the smallest $n_R+n_B$ \n",
    "- We will need to note that $n_R$ and $n_B$ have to be positive integers\n",
    "- We can get a formula for $n_R$ in terms of $n_B$ using $\\prob{S_1=R}\\cdot\\prob{S_2=R|S_1=R}$\n",
    "- Once we have that as we know that $n_R$ and $n_B$ are integers, we can plug in positive integers for $n_B$ starting from zero until we have $n_R$ as a positive integer.\n",
    "- Similarly for the second part, we will plug in $n_B=2n$ where $n$ is a postitve integer\n",
    "\n",
    "\n",
    "Let us start by writing $\\prob{S_1=R}\\cdot\\prob{S_2=R|S_1=R}$ in terms of $n_R$ and $n_B$:\n",
    "\n",
    "$$\\begin{eqnarray} \n",
    "    \\prob{S_1=R}\\cdot\\prob{S_2=R|S_1=R}\n",
    "    &=& \\frac{n_R}{n_R+n_B}\\cdot\\frac{n_R-1}{n_R+n_B-1} \\\\\n",
    "    &=& 0.5\n",
    "\\end{eqnarray}$$\n",
    "Therefore we have the quadratic equation:\n",
    "$$\\begin{eqnarray}\n",
    "    2n_R\\brac{n_R-1} &=& \\brac{n_R+n_B}\\brac{n_R+n_B-1} \\\\\n",
    "    &\\Updownarrow& \\\\\n",
    "    2n_R^2 - 2n_R &=& n_R^2 + 2n_R n_B + n_B^2 - n_R - n_B \\\\\n",
    "    &\\Updownarrow& \\\\\n",
    "    n_R^2 -n_R\\brac{2n_B + 1} + n_B -n_B^2 &=& 0\n",
    "\\end{eqnarray}$$\n",
    "Using quadratic formula we get:\n",
    "$$\\begin{eqnarray}\n",
    "    n_R \n",
    "    &=& \\frac{\\brac{2n_B+1}\\pm\\sqrt{\\brac{2n_B+1}^2 - 4\\brac{n_B-n_B^2}}}{2} \\\\\n",
    "    &=& \\frac{\\brac{2n_B+1}\\pm\\sqrt{4n_B^2 + 4n_B + 1 -4n_B + 4n_B^2}}{2} \\\\\n",
    "    &=& \\frac{\\brac{2n_B+1}\\pm\\sqrt{8n_B^2 + 1}}{2} \\\\\n",
    "\\end{eqnarray}$$\n",
    "    \n",
    "We know that $n_R$ and $n_B$ must be integers. Therefore let us plug in $n_B=1$ then $n_R=3$ then the smallest $n_R+n_B$ is 4.\n",
    "\n",
    "Now suppose $n_B$ is even. Then if we start plugging numbers for $n$ where $B=2n$:\n",
    "\n",
    "$$ n_R =  \\frac{\\brac{4n+1}\\pm\\sqrt{32n^2 + 1}}{2} $$\n",
    "\n",
    "We will get that $n=3$ so $n_B = 6$ and so $n_R+n_B$ = 21."
   ]
  },
  {
   "cell_type": "code",
   "execution_count": 2,
   "metadata": {},
   "outputs": [
    {
     "data": {
      "text/html": [
       "<div>\n",
       "<style scoped>\n",
       "    .dataframe tbody tr th:only-of-type {\n",
       "        vertical-align: middle;\n",
       "    }\n",
       "\n",
       "    .dataframe tbody tr th {\n",
       "        vertical-align: top;\n",
       "    }\n",
       "\n",
       "    .dataframe thead th {\n",
       "        text-align: right;\n",
       "    }\n",
       "</style>\n",
       "<table border=\"1\" class=\"dataframe\">\n",
       "  <thead>\n",
       "    <tr style=\"text-align: right;\">\n",
       "      <th></th>\n",
       "      <th>n_A_pos</th>\n",
       "      <th>n_A_neg</th>\n",
       "      <th>is_int</th>\n",
       "    </tr>\n",
       "    <tr>\n",
       "      <th>n_B</th>\n",
       "      <th></th>\n",
       "      <th></th>\n",
       "      <th></th>\n",
       "    </tr>\n",
       "  </thead>\n",
       "  <tbody>\n",
       "    <tr>\n",
       "      <th>0</th>\n",
       "      <td>1.000000</td>\n",
       "      <td>0.000000</td>\n",
       "      <td>True</td>\n",
       "    </tr>\n",
       "    <tr>\n",
       "      <th>1</th>\n",
       "      <td>3.000000</td>\n",
       "      <td>0.000000</td>\n",
       "      <td>True</td>\n",
       "    </tr>\n",
       "    <tr>\n",
       "      <th>2</th>\n",
       "      <td>5.372281</td>\n",
       "      <td>-0.372281</td>\n",
       "      <td>False</td>\n",
       "    </tr>\n",
       "    <tr>\n",
       "      <th>3</th>\n",
       "      <td>7.772002</td>\n",
       "      <td>-0.772002</td>\n",
       "      <td>False</td>\n",
       "    </tr>\n",
       "    <tr>\n",
       "      <th>4</th>\n",
       "      <td>10.178908</td>\n",
       "      <td>-1.178908</td>\n",
       "      <td>False</td>\n",
       "    </tr>\n",
       "  </tbody>\n",
       "</table>\n",
       "</div>"
      ],
      "text/plain": [
       "       n_A_pos   n_A_neg  is_int\n",
       "n_B                             \n",
       "0     1.000000  0.000000    True\n",
       "1     3.000000  0.000000    True\n",
       "2     5.372281 -0.372281   False\n",
       "3     7.772002 -0.772002   False\n",
       "4    10.178908 -1.178908   False"
      ]
     },
     "metadata": {},
     "output_type": "display_data"
    },
    {
     "data": {
      "text/plain": [
       "<matplotlib.legend.Legend at 0x7fdcf9084a58>"
      ]
     },
     "execution_count": 2,
     "metadata": {},
     "output_type": "execute_result"
    },
    {
     "data": {
      "image/png": "[encoded data removed]",
      "text/plain": [
       "<Figure size 432x288 with 1 Axes>"
      ]
     },
     "metadata": {
      "needs_background": "light"
     },
     "output_type": "display_data"
    }
   ],
   "source": [
    "# TODO - Need to look at $B=0$\n",
    "\n",
    "df = pd.DataFrame(dict(n_B=range(0, 41), n_A_pos=pd.np.nan, n_A_neg=pd.np.nan))\n",
    "df['n_A_pos'] = 0.5 * ((2 * df['n_B'] + 1) + pd.np.sqrt(8 * df['n_B'] ** 2 + 1))\n",
    "df['n_A_neg'] = 0.5 * ((2 * df['n_B'] + 1) - pd.np.sqrt(8 * df['n_B'] ** 2 + 1))\n",
    "df['is_int'] = df['n_A_pos'].apply(lambda x: x % 1 == 0)\n",
    "\n",
    "display(df.set_index('n_B', drop=True).head())\n",
    "\n",
    "ax = plt.subplot()\n",
    "df.loc[~df['is_int']].plot(x='n_B', y='n_A_pos', kind='scatter', grid=True, ax=ax)\n",
    "df.loc[df['is_int']].plot(x='n_B', y='n_A_pos', kind='scatter', grid=True, color='r', ax=ax)\n",
    "ax.legend(['Non Integers', 'Integers'])"
   ]
  },
  {
   "cell_type": "markdown",
   "metadata": {},
   "source": [
    "## Notes 1\n",
    "1) \n",
    "- Suppose $p_1, p_2$ are the proportions of red socks to total socks in the first draw and the second draw respectively\n",
    "- If $p_1 \\cdot p_2 = p$ where $p<1$ then we have that $p<p_1,p_2<1$\n",
    "- In our case $p=0.5$, therefore in both draws, there have to be more red socks than black socks"
   ]
  },
  {
   "cell_type": "markdown",
   "metadata": {},
   "source": [
    "## Question 2 - Successive Wins\n",
    "\n",
    "To encourage Elmer's promising tennis career, his father offers him a prize if he wins (at least) two tennis sets in a row in a three-set series to be played with his fther and the club champion alternatively: father-champion-father or champion-father-champion, according to Elmer's choice. Where series should Elmer choose?"
   ]
  },
  {
   "cell_type": "markdown",
   "metadata": {},
   "source": [
    "## Solution 2\n",
    "\n",
    "- We define our space space as win or lose a game ${W, L}$ and define random variables $G_F, G_C$ which are game against father and champion\n",
    "- Suppose that the probability of Elmer winning a game against his father is $\\prob{G_F=W} = p$ and against the champion is $\\prob{G_C=W} = q$\n",
    "- We assume the probability of winning a game is independent of any other game\n",
    "- We will abstract our random variables to $G_1, G_2 and G_3$ representing the three games where in father-champion-father case we have $G_1=G_F, G_2=G_C, G_3=G_F$ otherwise in champion-father-champion case we have $G_1=G_C, G_2=G_F, G_3=G_C$"
   ]
  },
  {
   "cell_type": "markdown",
   "metadata": {},
   "source": [
    "### Method 1\n",
    "- We have the following possibilities:\n",
    "\n",
    "    1) $\\red{{\\curlbrac{G_1=W, G_2=W, G_3=W}}}$\n",
    "    \n",
    "    2) $\\red{{\\curlbrac{G_1=W, G_2=W, G_3=L}}}$\n",
    "    \n",
    "    3) $\\curlbrac{G_1=W, G_2=L, G_3=W}$\n",
    "    \n",
    "    4) $\\curlbrac{G_1=W, G_2=L, G_3=L}$\n",
    "    \n",
    "    5) $\\red{{\\curlbrac{G_1=L, G_2=W, G_3=W}}}$\n",
    "    \n",
    "    6) $\\curlbrac{G_1=L, G_2=W, G_3=L}$\n",
    "    \n",
    "    7) $\\curlbrac{G_1=L, G_2=L, G_3=W}$\n",
    "    \n",
    "    8) $\\curlbrac{G_1=L, G_2=L, G_3=L}$\n",
    "\n",
    "\n",
    "- We want to be in one of 1, 2 and 5 hence we want te maximum probability for that, therefore:\n",
    "\n",
    "$$\\begin{eqnarray}\n",
    "\\prob{\\text{Prize}|G_1=G_F, G_2=G_C, G_3=G_F} \n",
    "&=& \\prob{\\curlbrac{G_1=W, G_2=W, G_3=W}} + \\prob{\\curlbrac{G_1=W, G_2=W, G_3=L}} + \\cdots \\\\ &&\\cdots+\\prob{\\curlbrac{G_1=L, G_2=W, G_3=W}}\\\\\n",
    "&=& p^2q + pq(1-p) + (1-p)qp\\\\\n",
    "&=& pq(p + 1 - p + 1 - p)\\\\\n",
    "&=& pq(2-p)\n",
    "\\end{eqnarray}$$"
   ]
  },
  {
   "cell_type": "markdown",
   "metadata": {},
   "source": [
    "### Method 2\n",
    "- We have two possibilities of winning in each case:\n",
    "\n",
    "$$\\begin{eqnarray}\n",
    "\\prob{\\text{Prize}} &=& \\prob{\\curlbrac{G_1=W, G_2=W} \\cup \\curlbrac{G_2=W, G_3=W}}\\\\\n",
    "&=& \\prob{\\curlbrac{G_1=W, G_2=W}} + \\prob{\\curlbrac{G_2=W, G_3=W}} - \\prob{\\curlbrac{G_1=W, G_2=W} \\cap \\curlbrac{G_2=W, G_3=W}}\\\\\n",
    "&=& \\prob{\\curlbrac{G_1=W, G_2=W}} + \\prob{\\curlbrac{G_2=W, G_3=W}} - \\prob{\\curlbrac{G_1=W, G_2=W, G_3=W}}\n",
    "\\end{eqnarray}$$\n",
    "\n",
    "- In the case where $G_1=G_F, G_2=G_C, G_3=G_F$:\n",
    "\n",
    "$$\\begin{eqnarray}\n",
    "\\prob{\\text{Prize}|G_1=G_F, G_2=G_C, G_3=G_F} &=& \\prob{\\curlbrac{G_1=W, G_2=W} \\cup \\curlbrac{G_2=W, G_3=W}} \\\\\n",
    "&=& pq + qp - p^2q\\\\\n",
    "&=& pq(2-p)\n",
    "\\end{eqnarray}$$"
   ]
  },
  {
   "cell_type": "markdown",
   "metadata": {},
   "source": [
    "## Solution 2 Continued\n",
    "\n",
    "Similarly swapping father and champion:\n",
    "\n",
    "$$\\begin{eqnarray}\n",
    "\\prob{\\text{Prize}|G_1=G_C, G_2=G_F, G_3=G_C} \n",
    "= pq(2-q)\n",
    "\\end{eqnarray}$$\n",
    "\n",
    "We want to check when:\n",
    "\n",
    "$$\\begin{eqnarray}\n",
    "    \\prob{\\text{Prize}|G_1=G_F, G_2=G_C, G_3=G_F} &\\geq& \\prob{\\text{Prize}|G_1=G_C, G_2=G_F, G_3=G_C}\\\\\n",
    "    &\\Updownarrow&\\\\\n",
    "    pq(2-p) &\\geq& pq(2-q)\\\\\n",
    "    &\\Updownarrow&\\\\\n",
    "    2-p &\\geq& 2-q\\\\\n",
    "    &\\Updownarrow&\\\\\n",
    "    q &\\geq& p\n",
    "\\end{eqnarray}$$"
   ]
  },
  {
   "cell_type": "markdown",
   "metadata": {},
   "source": [
    "## Notes 2\n",
    "- Therefore, if the probability of winning against the father is lower than the champion then you want to play father-champion-father and champion-father-champion if the probability of winning agaisnt the champion is lower than the father\n",
    "- It is important to note that the solution can seem counterintuitive:\n",
    "    - If we suppose that it is easier to win against the father than the champion then we would want to play against the champion the least amount and the father the most\n",
    "    - However, the key here is that we need to win two games *in a row* which means that if you want to win the prize then you *have to* win the middle game\n",
    "    - Meaning that it is better to put the player you can win against more easily in the middle even if it means that you have to play the champion more times"
   ]
  },
  {
   "cell_type": "markdown",
   "metadata": {},
   "source": [
    "## Question 3 - The Flippant Juror\n",
    "\n",
    "A three person jury has two members each of whom independently has probability $p$ of making the correct decision and a third member who flips a coin for each decision (majority rules). A one person jury has probability $p$ of making a correct decision. Which jury has the better probability of making the correct decision?"
   ]
  },
  {
   "cell_type": "markdown",
   "metadata": {},
   "source": [
    "## Solution 3\n",
    "Let us label the people in our three person jury as $J^3_1, J^3_2, J^3_3$ and the person in the one person jury as $J^1_1$. Our outcome space is $\\curlbrac{1,0}$ where $1$ means the person made the correct decision and $0$ incorrect. \n",
    "- We have that $\\prob{J^1_1 = 1} = p$\n",
    "- For the three person jury we have the following outcomes:\n",
    "    \n",
    "    1) $\\red{{\\curlbrac{J^3_1=1, J^3_2=1, J^3_3 = 1}}}$\n",
    "    \n",
    "    2) $\\red{{\\curlbrac{J^3_1=1, J^3_2=1, J^3_3 = 0}}}$\n",
    "    \n",
    "    3) $\\red{{\\curlbrac{J^3_1=1, J^3_2=0, J^3_3 = 1}}}$\n",
    "    \n",
    "    4) $\\curlbrac{J^3_1=1, J^3_2=0, J^3_3 = 0}$\n",
    "    \n",
    "    5) $\\red{{\\curlbrac{J^3_1=0, J^3_2=1, J^3_3 = 1}}}$\n",
    "    \n",
    "    6) $\\curlbrac{J^3_1=0, J^3_2=1, J^3_3 = 1}$\n",
    "    \n",
    "    7) $\\curlbrac{J^3_1=0, J^3_2=0, J^3_3 = 1}$\n",
    "    \n",
    "    8) $\\curlbrac{J^3_1=0, J^3_2=0, J^3_3 = 0}$\n",
    "\n",
    "\n",
    "- Therefore, the probability of getting the correct decision is:\n",
    "\n",
    "$$\\begin{eqnarray}\n",
    "    \\prob{\\text{Three Person Jury Correct}} &=& \\prob{J^3_1=1, J^3_2=1, J^3_3 = 1} + \\prob{J^3_1=1, J^3_2=1, J^3_3 = 0} + \\cdots \\\\ \n",
    "    && \\cdots + \\prob{J^3_1=1, J^3_2=0, J^3_3 = 1} + \\prob{J^3_1=0, J^3_2=1, J^3_3 = 1}\\\\\n",
    "    &=& p\\cdot p\\cdot \\frac{1}{2} + p\\cdot p\\cdot \\frac{1}{2} + p\\cdot \\brac{1-p} \\cdot \\frac{1}{2} + \\brac{1-p}\\cdot p\\cdot\\frac{1}{2} \\\\\n",
    "    &=& p^2 + p\\brac{1-p} \\\\\n",
    "    &=& p\n",
    "\\end{eqnarray}$$\n",
    "\n",
    "- Therefore, the probability of either jury getting to the correct decision is the same"
   ]
  },
  {
   "cell_type": "markdown",
   "metadata": {},
   "source": [
    "### Notes 3\n",
    "- It is interesting that when there are triple the number of people in the jury and only one flips a coin then it is the same as having a one person jury\n",
    "- Generalise this so figure out how many people are needed on a jury to counteract $n$ people flipping a coin"
   ]
  },
  {
   "cell_type": "markdown",
   "metadata": {},
   "source": [
    "## Question 4 - Trials until First Success\n",
    "On the average, how many times must a die be thrown until one gets a 6?"
   ]
  },
  {
   "cell_type": "markdown",
   "metadata": {},
   "source": [
    "## Solution 4\n",
    "\n",
    "- Let $D_t$ be an independent identically distributed random variable for all $t\\in\\N$ with the sample space $\\curlbrac{1,2,3,4,5,6}$ where for all $t\\in\\N$:\n",
    "\n",
    "$$ \\prob{D_t=d} = \\frac{1}{6} \\text{ for all } d \\in\\curlbrac{1,2,3,4,5,6}$$\n",
    "\n",
    "- Let $\\tau$ be the stopping time such that:\n",
    "\n",
    "$$\\tau = \\inf\\curlbrac{t:D_t = 6}$$"
   ]
  },
  {
   "cell_type": "markdown",
   "metadata": {},
   "source": [
    "### Method 1\n",
    "\n",
    "$$\\begin{eqnarray}\n",
    "    \\E{\\tau} \n",
    "    &=& \\E{\\tau|D_1=6}\\cdot\\prob{D_1=6} + \\brac{\\E{\\tau|D_1\\neq 6}+1}\\cdot\\prob{D_1\\neq 6} \\\\\n",
    "    &=& 1\\cdot\\frac{1}{6} + \\E{\\tau}\\cdot\\frac{5}{6} + 1\\cdot\\frac{5}{6}\\\\\n",
    "    &\\Updownarrow& \\\\\n",
    "    \\frac{1}{6} \\E{\\tau} &=& 1\\\\\n",
    "    &\\Updownarrow& \\\\\n",
    "    \\E{\\tau} &=& 6\n",
    "\\end{eqnarray}$$\n",
    "\n",
    "Let us look at why we can do the above in more detail:\n",
    "\n",
    "$$\\begin{eqnarray}\n",
    "    \\E{\\tau}\n",
    "    &=& \\sum_{t=1}^{\\infty}t\\cdot\\prob{\\tau=t} \\\\\n",
    "    &=& \\sum_{t=1}^{\\infty}t\\cdot\\prob{\\curlbrac{\\tau=t}\\cap\\curlbrac{D_1=6\\cup D_1\\neq6}} \\\\\n",
    "    &=& \\sum_{t=1}^{\\infty}t\\cdot\\prob{\\curlbrac{\\tau=t, D_1=6}\\cup\\curlbrac{\\tau=t, D_1\\neq6}} \\\\\n",
    "    &=& \\sum_{t=1}^{\\infty}t\\cdot\\brac{\\prob{\\tau=t, D_1=6} + \\prob{\\tau=t, D_1\\neq6}} \\\\\n",
    "    &=& \\sum_{t=1}^{\\infty}t\\cdot\\brac{\\prob{\\tau=t| D_1=6}\\cdot\\prob{D_1=6} + \\prob{\\tau=t| D_1\\neq6}\\cdot \\prob{D_1\\neq 6}} \\\\\n",
    "    &=& \\E{\\tau|D_1=6}\\cdot\\prob{D_1=6} + \\underbrace{\\brac{\\sum_{t=1}^{\\infty}t\\cdot\\prob{\\tau=t| D_1\\neq6}}}_\\brac{*}\\cdot\\prob{D_1\\neq 6} \\\\\n",
    "    &=& \\E{\\tau|D_1=6}\\cdot\\prob{D_1=6} + \\brac{\\E{\\tau} + 1}\\cdot\\prob{D_1\\neq6}\n",
    "\\end{eqnarray}$$\n",
    "\n",
    "Finally, let us have a closer look at $\\brac{*}$:\n",
    "\n",
    "$$\\begin{eqnarray}\n",
    "    \\brac{*}\n",
    "    &=& \\sum_{t=1}^{\\infty}t\\cdot\\prob{\\tau=t| D_1\\neq6}\\\\\n",
    "    &=& 1\\cdot\\underbrace{\\prob{\\tau=1|D_1\\neq6}}_{=0}+\\sum_{t=2}^{\\infty}t\\cdot\\prob{\\tau=t| D_1\\neq6} \\\\\n",
    "    &=& \\sum_{t=1}^{\\infty}\\brac{t+1}\\cdot\\prob{\\tau=t+1| D_1\\neq6} \\\\\n",
    "    &=& \\sum_{t=1}^{\\infty}\\brac{t+1}\\cdot\\frac{\\prob{\\tau=t+1, D_1\\neq6}}{\\prob{D_1\\neq 6}} \\\\\n",
    "    &=& \\sum_{t=1}^{\\infty}\\brac{t+1}\\cdot\\frac{\\prob{D_1\\neq6, D_2\\neq6,\\dots,D_{t}\\neq 6, D_{t+1}=6}}{\\prob{D_1\\neq 6}} \\\\\n",
    "    \\text{(Independence)} &=& \\sum_{t=1}^{\\infty}\\brac{t+1}\\cdot\\frac{\\prob{D_1\\neq6}\\cdot \\prob{D_2\\neq6}\\cdots\\prob{D_{t}\\neq 6}\\cdot\\prob{D_{t+1}=6}}{\\prob{D_1\\neq 6}} \\\\\n",
    "    &=& \\sum_{t=1}^{\\infty}\\brac{t+1}\\cdot \\prob{D_2\\neq6}\\cdots\\prob{D_{t}\\neq 6}\\cdot\\prob{D_{t+1}=6} \\\\\n",
    "    \\text{(Identical distribution)}&=& \\sum_{t=1}^{\\infty}\\brac{t+1}\\cdot \\prob{D_1\\neq6}\\cdots\\prob{D_{t-1}\\neq 6}\\cdot\\prob{D_{t}=6} \\\\\n",
    "    &=& \\sum_{t=1}^{\\infty}\\brac{t+1}\\cdot\\prob{\\tau=t} \\\\\n",
    "    &=& \\brac{\\sum_{t=1}^{\\infty}t\\cdot\\prob{\\tau=t} + \\sum_{t=1}^{\\infty}\\prob{\\tau=t}} \\\\\n",
    "    &=& \\brac{\\E{\\tau} + 1} \\\\\n",
    "\\end{eqnarray}$$"
   ]
  },
  {
   "cell_type": "markdown",
   "metadata": {},
   "source": [
    "### Method 2\n",
    "\n",
    "- Therefore we want to find $\\E{\\tau}$:\n",
    "\n",
    "$$\\begin{eqnarray}\n",
    "    \\E{\\tau}\n",
    "    &=& \\sum_{t=1}^{\\infty}t\\cdot\\prob{\\tau = t} \\\\\n",
    "    &=& \\sum_{t=1}^{\\infty}\\brac{t\\cdot\\prob{D_t=6}\\cdot\\prod_{s<t}\\prob{D_s\\neq6}} \\\\\n",
    "    &=& \\sum_{t=1}^{\\infty}t\\cdot\\frac{1}{6}\\cdot\\brac{\\frac{5}{6}}^{t-1} \\\\\n",
    "    &=& \\frac{1}{6}\\brac{\\sum_{t=0}^{\\infty}(t+1)\\cdot\\brac{\\frac{5}{6}}^{t}} \\\\\n",
    "    &=& \\frac{1}{6}\\brac{\\sum_{t=0}^{\\infty}\\brac{\\frac{5}{6}}^{t} + \\sum_{t=0}^{\\infty}t\\cdot\\brac{\\frac{5}{6}}^{t}} \\\\\n",
    "    %\\text{Using [link](#Geometric-Sum) and [link](#Geometric-Sum-With-Index)}\n",
    "    &=& \\frac{1}{6}\\brac{\\frac{1}{1-\\frac{5}{6}} + \\frac{1}{\\brac{1-\\frac{5}{6}}^2}} \\\\\n",
    "    &=& \\frac{1}{6}\\brac{6 + 36} \\\\\n",
    "    &=& 6\n",
    "\\end{eqnarray}$$"
   ]
  },
  {
   "cell_type": "markdown",
   "metadata": {},
   "source": [
    "## Question 5 - Coin In Square\n",
    "\n",
    "In a common carnival game a player tosses a penny from a distance of about 5 feet onto the surface of a table ruled in 1-inch squares. If the penny (0.75 inch in diameter) falls entirely inside a square, the player receives 5 cents but does not get his penny back; otherwise loses his penny. If the penny lands on the table, what is his chance to win?"
   ]
  },
  {
   "cell_type": "markdown",
   "metadata": {},
   "source": [
    "## Solution 5\n",
    "\n",
    "- We have to assume some kind of distribution for the coin landing on the table\n",
    "- We will assume that the center of the coin is uniformly distributed on the table when it lands\n",
    "- We will always assume that the coin will always land on the table instead of missing the table completely\n",
    "- In the case where there is a single square on the table, for the coin to land entirely inside the square:\n",
    "    - The center of the coin has to be perpendicular distance of 0.375 inches away from any side of the square\n",
    "    - This is the same as the center of the coin cannot be futher away than 0.125 (=0.5 - 0.375) in a horizontal or vertical distance from the center of the square\n",
    "    - In other words the center of the coin has to be in the smaller square of side 0.25 inches in the middle of the big square with side 1 inch"
   ]
  },
  {
   "cell_type": "markdown",
   "metadata": {},
   "source": [
    "### Method 1\n",
    "\n",
    "- To start with, let us assume that there is only one square on the table\n",
    "    - The probability of this happening when the distribution is uniform is the area of the smaller square over the area of the bigger square:\n",
    "$$\\prob{\\text{Coin landing entirely in the Square}} = \\frac{0.25^2}{1^2} = 0.225$$\n",
    "- Now let us assume that there are $m$ squares on the table then we can still use the same logic as for one square:\n",
    "$$\\prob{\\text{Coin landing entirely in the Square}} = \\frac{m\\cdot0.25^2}{m\\cdot1^2} = 0.225$$\n",
    "- Therefore the probability of you winning is 0.225"
   ]
  },
  {
   "cell_type": "markdown",
   "metadata": {},
   "source": [
    "### Method 2\n",
    "\n",
    "- Let us suppose that we have $n^2$ squares on the table\n",
    "- Let us denote the area inside each square in which the coin needs to land as $A_i$ for $i\\leq n^2$ which means that the coin will be entirely inside the square\n",
    "- Then let us use the random variables $X,Y$ which denote the $(x,y)$ coordinate of the center of the coin\n",
    "- Both $X$ and $Y$ have the sample space as $\\sqbrac{0,n}$ and are uniformly distributed\n",
    "- To get the probability of the coin landing within a square, we have:\n",
    "\n",
    "$$\\begin{eqnarray}\n",
    "\\prob{\\brac{X,Y}\\in \\cup_{i\\leq n}A_i}\n",
    "&=& \\prob{\\cup_{i\\leq n}\\curlbrac{\\brac{X,Y}\\in A_i}} \\\\\n",
    "&=& \\sum_{i\\leq n^2}\\prob{\\brac{X,Y}\\in A_i} \\\\\n",
    "&=& \\sum_{i\\leq n^2}\\int_{A_i}\\prob{\\brac{X,Y}\\in\\brac{dx,dy}} \\\\\n",
    "&=& \\sum_{i\\leq n^2}\\int_{A_i}\\prob{X\\in dx}\\cdot\\prob{Y\\in dy} \\\\\n",
    "&=& \\sum_{i\\leq n^2}\\int_{A_i^x}\\prob{X\\in dx}\\cdot\\int_{A_i^y}\\prob{Y\\in dy} \\\\\n",
    "&=& \\sum_{i\\leq n^2}\\int_{A_i^x}\\frac{1}{n}dx\\cdot\\int_{A_i^y}\\frac{1}{n}dy \\\\\n",
    "&=& \\sum_{i\\leq n^2}\\frac{1}{n^2}\\times 0.25 \\times 0.25 \\\\\n",
    "&=& \\frac{n^2}{n^2}\\times 0.0625\n",
    "\\end{eqnarray}$$"
   ]
  },
  {
   "cell_type": "markdown",
   "metadata": {},
   "source": [
    "- Let us suppose there are $m$ squares on the table\n",
    "- Let us denote each square by $S_i$ for $i\\leq m$\n",
    "- Let us denote the area inside each square in which the coin needs to land as $A_i$ for $i\\leq m$ which means that the coin will be entirely inside the square\n",
    "- Then let us use the random variables $X,Y$ which denote the $(x,y)$ coordinate of the center of the coin\n",
    "- Both $X$ and $Y$ have the sample space as all possible coordinates on the table and are uniformly distributed\n",
    "- To get the probability of the coin landing within a square, we have:\n",
    "\n",
    "$$\\begin{eqnarray}\n",
    "\\prob{\\brac{X,Y}\\in \\cup_{i\\leq n}A_i}\n",
    "&=& \\prob{\\curlbrac{\\brac{X,Y}\\in \\cup_{i\\leq n}A_i} \\cap \\curlbrac{\\brac{X,Y}\\in\\cup_{i\\leq n} S_i}} \\\\\n",
    "&=& \\prob{\\cup_{i\\leq n}\\curlbrac{\\brac{X,Y}\\in A_i\\cap S_i}} \\\\\n",
    "&=& \\sum_{i\\leq n} \\prob{\\brac{X,Y}\\in A_i\\cap S_i} \\\\\n",
    "&=& \\sum_{i\\leq n} \\prob{\\brac{X,Y}\\in A_i | \\brac{X,Y}\\in S_i}\\cdot\\prob{\\brac{X,Y}\\in S_i} \\\\\n",
    "&=& \\sum_{i\\leq n} 0.25\\times0.25\\cdot\\frac{1}{n} \\\\\n",
    "&=& 0.0625\n",
    "\\end{eqnarray}$$"
   ]
  },
  {
   "cell_type": "markdown",
   "metadata": {},
   "source": [
    "## Question 6 - Chuck-a-Luck\n",
    "\n",
    "Chuck-a-Luck is a gambling game often played at carnivals and gambling houses. A player may bet on any of the numbers $1,2,3,4,5,6$. Three dices are rolled. If the player's number appears on one, two or three of the dice, he receives respectively one, two, three times his original stake plus his own money back; otherwise he loses his stake. What is the player's expected loss per unit stake? (Actually the player may distribute stakes on several numbers, but each such stake can be regarded as a separate bet.)"
   ]
  },
  {
   "cell_type": "markdown",
   "metadata": {},
   "source": [
    "## Solution 6\n",
    "- Suppose that $p$ is the player's number. \n",
    "- Suppose $D_1,D_2,D_3$ are the three random variables with the sample space $\\curlbrac{1,2,3,4,5,6}$ such that:\n",
    "\n",
    "$$ \\prob{D_i=n} = \\frac{1}{6} \\text{ for all } i\\in\\curlbrac{1,2,3} \\text{ and } n\\in\\curlbrac{1,2,3,4,5,6} $$\n",
    "\n",
    "- To find the expected value per unit stake, we need to look at:\n",
    "$$\\begin{eqnarray}\n",
    "    \\E{} \n",
    "    &=& 3\\cdot\\prob{D_1=p,D_2=p,D_3=p} + \\cdots \\\\\n",
    "    &&\\cdots + 2\\cdot\\prob{D_1=p,D_2=p,D_3\\neq p} + 2\\cdot\\prob{D_1\\neq p, D_2=p, D_3=p} + 2\\cdot\\prob{D_1=p,D_2\\neq p, D_3=p} + \\cdots \\\\\n",
    "    && \\cdots + 1\\cdot\\prob{D_1=p,D_2\\neq p, D_3\\neq p} + 1\\cdot\\prob{D_1\\neq p,D_2=p, D_3\\neq p} + 1\\cdot\\prob{D_1\\neq p, D_2\\neq p, D_3=p} + \\cdots \\\\\n",
    "    && \\cdots - 1\\cdot\\prob{D_1\\neq p, D_2\\neq p, D_3\\neq p} \\\\\n",
    "    &=& 3\\cdot\\frac{1}{6^3} + 3\\times2\\cdot\\frac{5}{6^3} + 3\\times1\\cdot\\frac{5^2}{6^3} -1\\cdot\\frac{5^3}{6^3} \\\\\n",
    "    &=& \\frac{3 + 30 + 75 - 125}{216} \\\\\n",
    "    &=& -\\frac{17}{216}\n",
    "\\end{eqnarray}$$"
   ]
  },
  {
   "cell_type": "markdown",
   "metadata": {},
   "source": [
    "## Question 7 - Curing the Compulsive Gambler (Terrible Question)\n",
    "\n",
    "Mr. Brown always bets a dollar on the number 13 at roulette against the advice of Kind Friend. To help cure Mr. Brown of playing roulette, Kind Friend always bets Brown $20 at even money that Brown will be behind at the end of 36 plays. How is the cure working?\n",
    "\n",
    "(Most American roulette wheels have 38 equally likely numbers. If the player's number comes up, he is paid 35 times his stake and get his original stake back; otherwise he loses his stake.)"
   ]
  },
  {
   "cell_type": "markdown",
   "metadata": {},
   "source": [
    "## Solution 7\n",
    "\n",
    "- Suppose that $X$ is a random variable which denotes the gain or loss from a single game of roulette, therefore for an initial stake of $1$ we have:\n",
    "\n",
    "$$ \\prob{X=-1} = \\frac{37}{38},\\quad \\prob{X=35} = \\frac{1}{38} $$\n",
    "\n",
    "- Therefore the expected payoff from each game is $-\\frac{2}{38}$\n",
    "- We will denote independent identically distributed random variables $X_i$ for $1\\leq i\\leq 36$ each with the same distribution as $X$\n",
    "- Let us assume $B$ as the random variable denoting the payoff of the bet from Brown's prespective with the outcome space as $\\curlbrac{-20, 20}$\n",
    "    - We have:\n",
    "    \n",
    "    $$ \\curlbrac{B = -20} \\Leftrightarrow \\curlbrac{\\sum_{i=1}^{36}X_i < 0}, \\quad \\curlbrac{B = 20} \\Leftrightarrow \\curlbrac{\\sum_{i=1}^{36}X_i \\geq 0}$$\n",
    "    \n",
    "    - Having a close look at when $\\curlbrac{B=-20}$ hence when $\\curlbrac{\\sum_{i=1}^{36}X_i < 0}$, this can only happen if Brown loses all the games\n",
    "    - For example if Brown wins a single game then he will be $35$ ahead and in the worst case scenario if he loses all the other games then he will be back to $0$\n",
    "    - Therefore:\n",
    "    \n",
    "    $$\\begin{eqnarray}\n",
    "        \\prob{B=-20} \n",
    "        &=& \\prob{\\sum_{i=1}^{36}X_i < 0} \\\\\n",
    "        &=& \\prob{\\bigcap_{i=1}^{36} \\curlbrac{X_i<0}} \\\\\n",
    "        \\text{(Independence)}&=& \\prod_{i=1}^{36} \\prob{X_i<0} \\\\\n",
    "        &=& \\brac{\\frac{37}{38}}^{36}\n",
    "    \\end{eqnarray}$$\n",
    "    \n",
    "    - We also have the opposite:\n",
    "    $$ \\prob{B=20} = 1 - \\brac{\\frac{37}{38}}^{36} $$\n",
    "    \n",
    "    \n",
    "- Let us calculate the expected payoff including the bet between Kind Friend and Brown:\n",
    "\n",
    "$$\\begin{eqnarray}\n",
    "    \\E{} \n",
    "    &=& \\E{36 \\text{ Games of Roulette}} + \\E{\\text{Bet}} \\\\\n",
    "    &=& \\E{\\sum_{i=1}^{36} X_i} + 20\\times\\brac{1 - \\brac{\\frac{37}{38}}^{36}} - 20\\times\\brac{\\frac{37}{38}}^{36} \\\\\n",
    "    &=& \\sum_{i=1}^{36}\\E{X_i} + 20\\times\\brac{1 - 2\\times\\brac{\\frac{37}{38}}^{36}} \\\\\n",
    "    &=& 36\\times-\\frac{2}{38} + 20\\times\\brac{1 - 2\\times\\brac{\\frac{37}{38}}^{36}} \\\\\n",
    "    %&=& 20 - \\frac{2\\times36}{38} -40\\times\\brac{\\frac{37}{38}}^{36} \\\\\n",
    "\\end{eqnarray}$$\n",
    "\n",
    "We can see below that the expectation is positive."
   ]
  },
  {
   "cell_type": "code",
   "execution_count": 3,
   "metadata": {},
   "outputs": [
    {
     "name": "stdout",
     "output_type": "stream",
     "text": [
      "Payoff from a single game of roulette: -1.89\n",
      "Probability of losing the bet: 0.38\n",
      "Expectation of bet: 4.69\n",
      "Overall expectation: 2.79\n"
     ]
    }
   ],
   "source": [
    "print(f'Payoff from a single game of roulette: {- 36 * 2 / 38:.2f}')\n",
    "lose_bet_probability = (37 / 38) ** 36\n",
    "print(f'Probability of losing the bet: {lose_bet_probability:.2f}')\n",
    "print(f'Expectation of bet: {20 * (1 - lose_bet_probability) - 20 * lose_bet_probability:.2f}')\n",
    "print(f'Overall expectation: {20 - 2 * 36 / 38 - 40 * (37/38) ** 36:.2f}')"
   ]
  },
  {
   "cell_type": "markdown",
   "metadata": {},
   "source": [
    "### Notes - 7\n",
    "\n",
    "- The important part here to note is that losing the bet corresponds to **losing all the games**\n",
    "- Otherwise this question becomes harder as if it meant losing all but one game for example then we would need to look at some combinatorics for that"
   ]
  },
  {
   "cell_type": "markdown",
   "metadata": {},
   "source": [
    "## Question 8 - Perfect Bridge Hand\n",
    "\n",
    "We often read of someone who has been dealt 13 spades at bridge. With a well-shuffled pack of cards, what is the chance that you are dealt a perfect hand (13 of one suit)? (Bridge is played with an ordinary pack of 52 cards, 13 in each of 4 suits, and 4 players is dealt 13.)"
   ]
  },
  {
   "cell_type": "markdown",
   "metadata": {},
   "source": [
    "## Solution 8\n",
    "- Suppose we have random variables $C_i$ for $1\\leq i\\leq 52$ denoting the $i$-th dealt card from a shuffled pack of cards\n",
    "- The outcome space for $C_1$ is $A = \\curlbrac{1,2,\\dots, 52}$ denoting the all 52 cards, for $C_2$ is $A\\setminus \\curlbrac{C_1}$, for $C_i$ is $A\\setminus \\bigcup_{j=1}^{i-1}C_i$\n",
    "- Suppose $S: A\\rightarrow \\curlbrac{1,2,3,4}$ is a funcion which maps a card to its suit\n",
    "- For a well shuffled deck, it should not matter if we deal $13$ cards in one go to player $1$ then $2$ then $3$ then $4$ or if we deal one card to players $1, 2, 3, 4$ then the second card and so on...?\n",
    "- Therefore we will assume we deal $13$ cards at once to each player, then:\n",
    "\n",
    "$$\\begin{eqnarray}\n",
    "\\prob{\\text{Pefect Hand}}\n",
    "&=& \\prob{\\bigcup_{s=1}^4\\bigcap_{i=1}^{13}S\\brac{C_i} = s} \\\\\n",
    "\\text{(Disjoint sets)} &=& \\sum_{s=1}^4\\prob{\\bigcap_{i=1}^{13}S\\brac{C_i} = s} \\\\\n",
    "&=& \\sum_{s=1}^4\\prob{S\\brac{C_1}=s}\\cdot \\prob{\\bigcap_{i=2}^{13}\\curlbrac{S\\brac{C_i}= s}|S\\brac{C_1}=s} \\\\\n",
    "&=& \\sum_{s=1}^4\\prob{S\\brac{C_1}=s} \\cdot \\prob{S\\brac{C_2}=s|S\\brac{C_1}=s} \\cdot \\prob{\\bigcap_{i=3}^{13}\\curlbrac{S\\brac{C_i}= s}|S\\brac{C_1}=s, S\\brac{C_2}=s} \\\\\n",
    "&=& \\sum_{s=1}^4\\prod_{i=1}^{13}\\prob{S\\brac{C_i} = s|\\bigcap_{j=1}^{i-1}S\\brac{C_j} = s} \\\\\n",
    "&=& \\sum_{s=1}^4\\frac{13}{52}\\times\\frac{12}{51}\\times\\cdots\\times\\frac{1}{40} \\\\\n",
    "&=& 4\\times \\frac{13!39!}{52!} \\\\\n",
    "&=& \\frac{12!39!}{51!}\n",
    "\\end{eqnarray}$$"
   ]
  },
  {
   "cell_type": "code",
   "execution_count": 4,
   "metadata": {},
   "outputs": [
    {
     "name": "stdout",
     "output_type": "stream",
     "text": [
      "Probability of a perfect hand: \n",
      "0.00000000000629907809\n"
     ]
    }
   ],
   "source": [
    "perfect_hand = pd.np.math.factorial(12) * pd.np.math.factorial(39) / pd.np.math.factorial(51)\n",
    "print(f'Probability of a perfect hand: \\n{perfect_hand:.20f}')"
   ]
  },
  {
   "cell_type": "markdown",
   "metadata": {},
   "source": [
    "## Question 9 - Craps\n",
    "\n",
    "The game of craps, played with two die, is one of America's fastest and most popular gambling games. Calculating the odds associated with it is an instructive exercise.\n",
    "\n",
    "The rules are these. Only totals for the two die count. The player throws the die and wins at onces if the total for the first throw is 7 or 11, loses at once if it is 2, 3 or 12. Any other throw is called his \"point\". If the first throw is a point, the player throws the die repeatedly until he either wins by throwing his point again or loses by throwing 7. What is the player's change to win?"
   ]
  },
  {
   "cell_type": "markdown",
   "metadata": {},
   "source": [
    "## Solution 9\n",
    "\n",
    "- Suppose we have two random variables $D_1, D_2$ denoting the throw of a dice which are independent identically distributed with the following distribution:\n",
    "\n",
    "$$ \\prob{D_i = j} = \\frac{1}{6}, \\text{for } i\\in\\curlbrac{1,2} \\text{ and } j\\in\\curlbrac{1,2,3,4,5,6}$$\n",
    "\n",
    "- We want to focus on $S = D_1 + D_2$, to get the distribution of $S$ we can just look at all the possibilities:"
   ]
  },
  {
   "cell_type": "code",
   "execution_count": 5,
   "metadata": {},
   "outputs": [
    {
     "data": {
      "text/html": [
       "<div>\n",
       "<style scoped>\n",
       "    .dataframe tbody tr th:only-of-type {\n",
       "        vertical-align: middle;\n",
       "    }\n",
       "\n",
       "    .dataframe tbody tr th {\n",
       "        vertical-align: top;\n",
       "    }\n",
       "\n",
       "    .dataframe thead th {\n",
       "        text-align: right;\n",
       "    }\n",
       "</style>\n",
       "<table border=\"1\" class=\"dataframe\">\n",
       "  <thead>\n",
       "    <tr style=\"text-align: right;\">\n",
       "      <th></th>\n",
       "      <th>1</th>\n",
       "      <th>2</th>\n",
       "      <th>3</th>\n",
       "      <th>4</th>\n",
       "      <th>5</th>\n",
       "      <th>6</th>\n",
       "    </tr>\n",
       "  </thead>\n",
       "  <tbody>\n",
       "    <tr>\n",
       "      <th>1</th>\n",
       "      <td>2</td>\n",
       "      <td>3</td>\n",
       "      <td>4</td>\n",
       "      <td>5</td>\n",
       "      <td>6</td>\n",
       "      <td>7</td>\n",
       "    </tr>\n",
       "    <tr>\n",
       "      <th>2</th>\n",
       "      <td>3</td>\n",
       "      <td>4</td>\n",
       "      <td>5</td>\n",
       "      <td>6</td>\n",
       "      <td>7</td>\n",
       "      <td>8</td>\n",
       "    </tr>\n",
       "    <tr>\n",
       "      <th>3</th>\n",
       "      <td>4</td>\n",
       "      <td>5</td>\n",
       "      <td>6</td>\n",
       "      <td>7</td>\n",
       "      <td>8</td>\n",
       "      <td>9</td>\n",
       "    </tr>\n",
       "    <tr>\n",
       "      <th>4</th>\n",
       "      <td>5</td>\n",
       "      <td>6</td>\n",
       "      <td>7</td>\n",
       "      <td>8</td>\n",
       "      <td>9</td>\n",
       "      <td>10</td>\n",
       "    </tr>\n",
       "    <tr>\n",
       "      <th>5</th>\n",
       "      <td>6</td>\n",
       "      <td>7</td>\n",
       "      <td>8</td>\n",
       "      <td>9</td>\n",
       "      <td>10</td>\n",
       "      <td>11</td>\n",
       "    </tr>\n",
       "    <tr>\n",
       "      <th>6</th>\n",
       "      <td>7</td>\n",
       "      <td>8</td>\n",
       "      <td>9</td>\n",
       "      <td>10</td>\n",
       "      <td>11</td>\n",
       "      <td>12</td>\n",
       "    </tr>\n",
       "  </tbody>\n",
       "</table>\n",
       "</div>"
      ],
      "text/plain": [
       "   1  2  3   4   5   6\n",
       "1  2  3  4   5   6   7\n",
       "2  3  4  5   6   7   8\n",
       "3  4  5  6   7   8   9\n",
       "4  5  6  7   8   9  10\n",
       "5  6  7  8   9  10  11\n",
       "6  7  8  9  10  11  12"
      ]
     },
     "metadata": {},
     "output_type": "display_data"
    },
    {
     "data": {
      "text/html": [
       "<div>\n",
       "<style scoped>\n",
       "    .dataframe tbody tr th:only-of-type {\n",
       "        vertical-align: middle;\n",
       "    }\n",
       "\n",
       "    .dataframe tbody tr th {\n",
       "        vertical-align: top;\n",
       "    }\n",
       "\n",
       "    .dataframe thead th {\n",
       "        text-align: right;\n",
       "    }\n",
       "</style>\n",
       "<table border=\"1\" class=\"dataframe\">\n",
       "  <thead>\n",
       "    <tr style=\"text-align: right;\">\n",
       "      <th></th>\n",
       "      <th>count</th>\n",
       "      <th>probability</th>\n",
       "    </tr>\n",
       "  </thead>\n",
       "  <tbody>\n",
       "    <tr>\n",
       "      <th>2</th>\n",
       "      <td>1</td>\n",
       "      <td>0.027778</td>\n",
       "    </tr>\n",
       "    <tr>\n",
       "      <th>3</th>\n",
       "      <td>2</td>\n",
       "      <td>0.055556</td>\n",
       "    </tr>\n",
       "    <tr>\n",
       "      <th>4</th>\n",
       "      <td>3</td>\n",
       "      <td>0.083333</td>\n",
       "    </tr>\n",
       "    <tr>\n",
       "      <th>5</th>\n",
       "      <td>4</td>\n",
       "      <td>0.111111</td>\n",
       "    </tr>\n",
       "    <tr>\n",
       "      <th>6</th>\n",
       "      <td>5</td>\n",
       "      <td>0.138889</td>\n",
       "    </tr>\n",
       "    <tr>\n",
       "      <th>7</th>\n",
       "      <td>6</td>\n",
       "      <td>0.166667</td>\n",
       "    </tr>\n",
       "    <tr>\n",
       "      <th>8</th>\n",
       "      <td>5</td>\n",
       "      <td>0.138889</td>\n",
       "    </tr>\n",
       "    <tr>\n",
       "      <th>9</th>\n",
       "      <td>4</td>\n",
       "      <td>0.111111</td>\n",
       "    </tr>\n",
       "    <tr>\n",
       "      <th>10</th>\n",
       "      <td>3</td>\n",
       "      <td>0.083333</td>\n",
       "    </tr>\n",
       "    <tr>\n",
       "      <th>11</th>\n",
       "      <td>2</td>\n",
       "      <td>0.055556</td>\n",
       "    </tr>\n",
       "    <tr>\n",
       "      <th>12</th>\n",
       "      <td>1</td>\n",
       "      <td>0.027778</td>\n",
       "    </tr>\n",
       "  </tbody>\n",
       "</table>\n",
       "</div>"
      ],
      "text/plain": [
       "    count  probability\n",
       "2       1     0.027778\n",
       "3       2     0.055556\n",
       "4       3     0.083333\n",
       "5       4     0.111111\n",
       "6       5     0.138889\n",
       "7       6     0.166667\n",
       "8       5     0.138889\n",
       "9       4     0.111111\n",
       "10      3     0.083333\n",
       "11      2     0.055556\n",
       "12      1     0.027778"
      ]
     },
     "metadata": {},
     "output_type": "display_data"
    }
   ],
   "source": [
    "start = 1\n",
    "end = 6\n",
    "df = pd.DataFrame({1: range(start + 1, end + 2)}, index=range(start, end + 1))\n",
    "\n",
    "for dice in range(start + 1, end + 1):\n",
    "    df[dice] = df[dice-1] + 1\n",
    "    \n",
    "display(df)\n",
    "\n",
    "count_df = df.stack().value_counts().sort_index().to_frame('count')\n",
    "count_df['probability'] = count_df['count'] / count_df['count'].sum()\n",
    "\n",
    "display(count_df)"
   ]
  },
  {
   "cell_type": "markdown",
   "metadata": {},
   "source": [
    "- We now have the distribution for $S$ as above, suppose we have $S_i$ for $i\\geq 1$ where $S_i$ is independently identically distributed each with the same distribution with $S$"
   ]
  },
  {
   "cell_type": "markdown",
   "metadata": {},
   "source": [
    "### Method 1\n",
    "- Let us define $P = \\curlbrac{4,5,6,8,9,10}$\n",
    "- We want to now try to work out the probability of winning:\n",
    "\n",
    "$$\\begin{eqnarray}\n",
    "    \\prob{\\text{Win}} \n",
    "    &=& \\prob{S_1\\in\\curlbrac{7, 11}\\cup \\brac{S_1\\in P\\bigcap\\bigcup_{i=2}^{\\infty}\\cap_{j = 2}^{i-1} S_j \\notin\\curlbrac{S_1, 7}\\cap \\curlbrac{S_{i}=S_1}}}\\\\\n",
    "    &=& \\prob{S_1\\in\\curlbrac{7, 11}} + \\prob{S_1\\in P\\bigcap\\bigcup_{i=2}^{\\infty}\\cap_{j = 2}^{i-1} S_j \\notin\\curlbrac{S_1, 7}\\cap \\curlbrac{S_{i}=S_1}}\\\\\n",
    "    &=& \\prob{S_1\\in\\curlbrac{7, 11}} + \\sum_{s\\in P}\\prob{\\curlbrac{S_1 = s}\\bigcap\\bigcup_{i=2}^{\\infty}\\cap_{j = 2}^{i-1} S_j \\notin\\curlbrac{s, 7}\\cap \\curlbrac{S_{i}=s}}\\\\\n",
    "    &=& \\prob{S_1\\in\\curlbrac{7, 11}} + \\sum_{s\\in P}\\prob{S_1=s}\\cdot\\prob{\\bigcup_{i=2}^{\\infty}\\cap_{j = 2}^{i-1} S_j \\notin\\curlbrac{s, 7}\\cap \\curlbrac{S_{i}=s}| S_1 = s}\\\\\n",
    "    &=& \\prob{S_1\\in\\curlbrac{7, 11}} + \\sum_{s\\in P}\\prob{S=s}\\cdot\\prob{\\bigcup_{i=2}^{\\infty}\\cap_{j = 2}^{i-1} S \\notin\\curlbrac{s, 7}}\\cdot\\prob{S=s}\\\\\n",
    "    &=& \\prob{S_1\\in\\curlbrac{7, 11}} + \\sum_{s\\in P}\\prob{S=s}^2\\cdot\\sum_{i=2}^{\\infty}\\prob{\\cap_{j = 2}^{i-1} S \\notin\\curlbrac{s, 7}}\\\\\n",
    "    &=& \\prob{S_1\\in\\curlbrac{7, 11}} + \\sum_{s\\in P}\\prob{S=s}^2\\cdot\\sum_{i=2}^{\\infty}\\prod_{j=2}^{i-1}\\prob{S \\notin\\curlbrac{s, 7}}\\\\\n",
    "    &=& \\prob{S_1\\in\\curlbrac{7, 11}} + \\sum_{s\\in P}\\prob{S=s}^2\\cdot\\sum_{i=2}^{\\infty}\\prob{S \\notin\\curlbrac{s, 7}}^{i-2}\\\\\n",
    "    &=& \\prob{S_1\\in\\curlbrac{7, 11}} + \\sum_{s\\in P}\\prob{S=s}^2\\cdot\\sum_{i=0}^{\\infty}\\prob{S \\notin\\curlbrac{s, 7}}^{i}\\\\\n",
    "    &=& \\prob{S_1\\in\\curlbrac{7, 11}} + \\sum_{s\\in P}\\prob{S=s}^2\\cdot\\frac{1}{1-\\prob{S \\notin\\curlbrac{s, 7}}}\\\\\n",
    "    &=& \\frac{6 + 2}{36} + 2\\cdot\\brac{\\brac{\\frac{3}{36}}^2\\cdot\\frac{1}{1-\\frac{27}{36}} + \\brac{\\frac{4}{36}}^2\\cdot\\frac{1}{1-\\frac{26}{36}} + \\brac{\\frac{5}{36}}^2\\cdot\\frac{1}{1-\\frac{25}{36}}}\\\\\n",
    "    &=& \\frac{8}{36} + 2\\cdot\\brac{\\brac{\\frac{3}{36}}^2\\cdot\\frac{36}{9} + \\brac{\\frac{4}{36}}^2\\cdot\\frac{36}{10} + \\brac{\\frac{5}{36}}^2\\cdot\\frac{36}{11}}\\\\\n",
    "    &=& \\frac{8}{36} + 2\\cdot\\brac{\\frac{9}{36^2}\\cdot\\frac{36}{9} + \\frac{16}{36^2}\\cdot\\frac{36}{10} + \\frac{25}{36^2}\\cdot\\frac{36}{11}}\\\\\n",
    "    &=& \\frac{8}{36} + 2\\cdot\\brac{\\frac{1}{36} + \\frac{16}{36\\cdot 10} + \\frac{25}{36\\cdot 11}}\\\\\n",
    "    &=& \\frac{8}{36} + \\frac{2}{36} + \\frac{32}{36\\cdot 10} + \\frac{50}{36\\cdot 11}\\\\\n",
    "    &=& \\frac{8}{36} + \\frac{2}{36} + \\frac{16}{36\\cdot 5} + \\frac{50}{36\\cdot 11}\\\\\n",
    "    &=& \\frac{8\\cdot 5\\cdot 11 + 2\\cdot 5\\cdot 11 + 16\\cdot 11 + 50\\cdot 4}{36\\cdot 5\\cdot 11}\\\\\n",
    "    &=& \\frac{440 + 110 + 176 + 200}{1980}\\\\\n",
    "    &=& \\frac{926}{1980}\\\\\n",
    "    &=& \\frac{244}{495}\n",
    "\\end{eqnarray}$$"
   ]
  },
  {
   "cell_type": "markdown",
   "metadata": {},
   "source": [
    "### Method 2 - Ignore\n",
    "$$\\begin{eqnarray}\n",
    "\\prob{\\text{Win}} \n",
    "&=& 1 - \\prob{\\text{Lose}}\\\\\n",
    "&=& 1 - \\prob{S_1\\in\\curlbrac{2, 3, 12}\\cup\\brac{S_1\\notin\\curlbrac{2, 3, 12}\\cap\\brac{\\bigcup_{i\\geq2}\\bigcap_{j<i}\\curlbrac{S_j\\neq 7}\\cap \\curlbrac{S_i = 7}}}}\\\\\n",
    "&=& 1 - \\prob{S_1\\in\\curlbrac{2, 3, 12}} + \\prob{S_1\\notin\\curlbrac{2, 3, 12}}\\cdot\\prob{\\bigcup_{i\\geq2}\\bigcap_{j<i}\\curlbrac{S_j\\neq 7}\\cap \\curlbrac{S_i = 7}}\\\\\n",
    "&=& 1 - \\prob{S\\in\\curlbrac{2, 3, 12}} + \\prob{S\\notin\\curlbrac{2, 3, 12}}\\cdot\\prob{\\bigcup_{i\\geq2}\\bigcap_{j<i}\\curlbrac{S\\neq 7}}\\cdot\\prob{S=7}\\\\\n",
    "&=& 1 - \\prob{S\\in\\curlbrac{2, 3, 12}} + \\prob{S\\notin\\curlbrac{2, 3, 12}}\\cdot\\prob{S=7}\\cdot\\sum_{i=2}^\\infty\\prod_{j=2}^{i-1}\\prob{S\\neq 7}\\\\\n",
    "&=& 1 - \\prob{S\\in\\curlbrac{2, 3, 12}} + \\prob{S\\notin\\curlbrac{2, 3, 12}}\\cdot\\prob{S=7}\\cdot\\sum_{i=2}^\\infty\\prob{S\\neq 7}^{i-2}\\\\\n",
    "&=& 1 - \\prob{S\\in\\curlbrac{2, 3, 12}} + \\prob{S\\notin\\curlbrac{2, 3, 12}}\\cdot\\prob{S=7}\\cdot\\sum_{i=0}^\\infty\\prob{S\\neq 7}^{i}\\\\\n",
    "&=& 1 - \\prob{S\\in\\curlbrac{2, 3, 12}} + \\prob{S\\notin\\curlbrac{2, 3, 12}}\\cdot\\prob{S=7}\\cdot\\frac{1}{1-\\prob{S\\neq 7}}\\\\\n",
    "&=& 1 - \\frac{4}{36}+ \\frac{32}{36}\n",
    "\\end{eqnarray}$$"
   ]
  },
  {
   "cell_type": "code",
   "execution_count": 6,
   "metadata": {},
   "outputs": [
    {
     "name": "stdout",
     "output_type": "stream",
     "text": [
      "Probability of winning at craps: 0.4929\n"
     ]
    }
   ],
   "source": [
    "print(f'Probability of winning at craps: {244 / 495:.4f}')"
   ]
  },
  {
   "cell_type": "markdown",
   "metadata": {},
   "source": [
    "### Note 9\n",
    "- It might be easier to do this question by calculating the probability of losing and subtracting that from one as after the first throw you would just need to check if its 7 or not rather than needing to go into specific cases"
   ]
  },
  {
   "cell_type": "markdown",
   "metadata": {},
   "source": [
    "## Question 10 - An Experiment in Personal Taste for Money\n",
    "\n",
    "a) An urn contains 10 black balls and 10 white balls, identical except for color. You choose \"black\" or \"white\". One ball is drawn at random, and if its color matches your choice, you get $10, otherwise nothing. Write down the maximum amount you are willing to pay to play the game. The game will be play just once.\n",
    "\n",
    "b) A friend of yours has available many black and many white balls, and he puts black and white balls into the urn to suit himself. You choose \"black\" or \"white\". A ball is drawn randomly from his urn. Write down the maximum amount you are willing to pay to play this game. The game will be played just once."
   ]
  },
  {
   "cell_type": "markdown",
   "metadata": {},
   "source": [
    "## Solution 10\n",
    "\n",
    "- To setup the problem, we will denote the random variable $B$ denoting the ball drawn with the outcome space $b, w$ for black and white ball\n",
    "- We also use the variable $C$ which denotes the choice we make\n",
    "\n",
    "a) \n",
    "- We would like to calculate the expected payoff from the game. We have the following:\n",
    "$$\\begin{eqnarray}\n",
    "    \\E{\\text{Payoff}|C=b} \n",
    "    &=& 10\\cdot\\prob{B=b} + 0\\cdot\\prob{B=w}\\\\\n",
    "    &=& 10\\cdot\\frac{10}{20}\\\\\n",
    "    &=& 5\n",
    "\\end{eqnarray}$$\n",
    "- Similarly $\\E{\\text{Payoff}|C=w} = 5$\n",
    "\n",
    "b)\n",
    "- Let us denote $n_b$ and $n_w$ which are the theoretical number of black balls and white balls respectively. Then we have the following:\n",
    "$$\\begin{eqnarray}\n",
    "    \\E{\\text{Payoff}|C=b} \n",
    "    &=& 10\\cdot\\prob{B=b} + 0\\cdot\\prob{B=w}\\\\\n",
    "    &=& 10\\cdot\\frac{n_b}{n_b + n_w}\n",
    "\\end{eqnarray}$$\n",
    "- Similarly $\\E{\\text{Payoff}|C=b} = 10\\cdot\\frac{n_w}{n_b + n_w}$\n",
    "- Suppose now that $C$ is a random variable where $\\prob{C=b} = \\prob{C=w} = \\frac{1}{2}$, then we have:\n",
    "$$\\begin{eqnarray}\n",
    "\\E{\\text{Payoff}}\n",
    "&=& \\E{\\text{Payoff}|C=b}\\cdot\\prob{C=b} + \\E{\\text{Payoff}|C=w}\\cdot\\prob{C=w}\\\\\n",
    "&=& \\frac{1}{2}\\brac{10\\cdot\\frac{n_b}{n_b + n_w} + 10\\cdot\\frac{n_w}{n_b+n_w}}\\\\\n",
    "&=& 5\n",
    "\\end{eqnarray}$$"
   ]
  },
  {
   "cell_type": "markdown",
   "metadata": {},
   "source": [
    "### Note 10\n",
    "\n",
    "- The idea here is that it doesn't matter what you are willing to pay for either (a) or (b) but whatever those values are, they should be equal as both (a) and (b) have the same payoff even if you don't know how many black and white balls there are in the (b) case"
   ]
  },
  {
   "cell_type": "markdown",
   "metadata": {},
   "source": [
    "## Question 11 - Silent Cooperation\n",
    "\n",
    "Two strangers are separately asked to choose one of the positive whole numbers and advised that if they both choose the same number, they both get a prize. If you were one of these people, what number would you choose?"
   ]
  },
  {
   "cell_type": "markdown",
   "metadata": {},
   "source": [
    "## Solution 11\n",
    "- There is no right answer for this\n",
    "- Personally I would choose the smallest number possible which is one as the more choices you add the more unlikely it is that the other person will choose that"
   ]
  },
  {
   "cell_type": "markdown",
   "metadata": {},
   "source": [
    "## Question 12 - Quo Vadis?\n",
    "Two strangers who have a private recognition signal agree to meet on a certain Thursday at 12 noon in New York City, a town familiar to neither, to discuss an important business deal, but later they discover that they have not chosen a meeting place, and neither can reach the other because both have embarked on trips. If they try nevertheless to meet, where should they go?"
   ]
  },
  {
   "cell_type": "markdown",
   "metadata": {},
   "source": [
    "## Solution 12\n",
    "\n",
    "- There is no right answer for this\n",
    "- I would choose the most iconic/popular place in the city or something that stands out heavily. \n",
    "- It is important to have visibility both ways so that people around you can see you and you can see the people around you clearly\n",
    "- I would tend to find a place such as the tallest building in the city "
   ]
  },
  {
   "cell_type": "markdown",
   "metadata": {},
   "source": [
    "## Question 13 - Prisoner's Dilemma\n",
    "\n",
    "Three prisoners A, B and C, with apparently equally good records have applied for parole. The parole board has decided to release two of the three, and the prisoners know this but not which two. A warder friend of prisoner A knows who are to be released. Prisoner A realizes that is would be unethical to ask the warder if he, A, is to be released, but thinks of asking for the name of one prisoner other than himself who is to be released. He thinks that before he asks, his chances of release are 2/3. He thinks that if the warder says \"B will be released\", his own chances have gone down to 1/2, because either A and B or B and C are to be released. And so A decides not to reduce his chances by asking. However, A is mistaken in his calculations. Explain."
   ]
  },
  {
   "cell_type": "markdown",
   "metadata": {},
   "source": [
    "## Solution 13\n",
    "\n",
    "- We denote a random variable $R$ which denotes the two prisoners to be released so the outcome space is $\\curlbrac{\\curlbrac{A,B}, \\curlbrac{A,C}, \\curlbrac{B,C}}$ where each of the event is equally likely\n",
    "- We first check the probability of releasing A:\n",
    "\n",
    "$$\\begin{eqnarray}\n",
    "\\prob{\\text{Release } A} \n",
    "&=& \\prob{\\curlbrac{R=\\curlbrac{A,B}}\\cup\\curlbrac{R=\\curlbrac{A,C}}}\\\\\n",
    "&=& \\prob{\\curlbrac{R=\\curlbrac{A,B}}} + \\prob{\\curlbrac{R=\\curlbrac{A,C}}}\\\\\n",
    "&=& \\frac{1}{3} + \\frac{1}{3}\\\\\n",
    "&=& \\frac{2}{3}\n",
    "\\end{eqnarray}$$\n",
    "\n",
    "- Let us now focus on the case where the warder says \"$B$ will be released\"\n",
    "- Let us denote the random variables $W$ for which prisoner the warder says to release with the outcome space $\\curlbrac{B,C}$ as the warder will not say if $A$ is to be released, we assume the distribution is uniform\n",
    "- We will now look at the probability of $A$ being released given that $W=B$:\n",
    "\n",
    "$$\\begin{eqnarray}\n",
    "\\prob{A|W=B}\n",
    "&=& \\frac{\\prob{A\\cap\\curlbrac{W=B}}}{\\prob{W=B}}\\\\\n",
    "&=& \\frac{\\prob{A,B}}{\\prob{\\curlbrac{W=B}\\cap\\curlbrac{A,B}} + \\prob{\\curlbrac{W=B}\\cap\\curlbrac{B, C}} + \\prob{\\curlbrac{W=B}\\cap\\curlbrac{A, C}}}\\\\\n",
    "&=& \\frac{\\frac{1}{3}}{\\prob{W=B|A,B}\\cdot\\prob{A,B} + \\prob{W=B|B, C}\\cdot\\prob{B,C} + \\prob{W=B|A, C}\\cdot\\prob{A,C}}\\\\\n",
    "&=& \\frac{\\frac{1}{3}}{1\\cdot\\frac{1}{3} + \\frac{1}{2}\\cdot\\frac{1}{3} + 0\\cdot\\frac{1}{3}}\\\\\n",
    "&=& \\frac{2}{3}\n",
    "\\end{eqnarray}$$"
   ]
  },
  {
   "cell_type": "markdown",
   "metadata": {},
   "source": [
    "### Note 13\n",
    "- I can never get this question right without looking at the solution\n",
    "- I think the important part here is to remember that the warder saying is a random variable too"
   ]
  },
  {
   "cell_type": "markdown",
   "metadata": {},
   "source": [
    "## Question 14 - Collecting Coupons\n",
    "Coupons in a cereal box are numbered 1 to 5, and a set of one of each is required for a prize. With one coupon per box, how many boxes on the average are required to make a set?"
   ]
  },
  {
   "cell_type": "markdown",
   "metadata": {},
   "source": [
    "## Solution 14\n",
    "- Let us define the random variable $C$ which denotes the coupon received in a cereal box with the outcome space $X=\\curlbrac{1,2,3,4,5}$ with equal probability to get each of the coupons\n",
    "- We then denote $C_i$ as independent identically distributed with the same distribution as $C$ for $i\\in\\N$\n",
    "- We define the stopping time $\\tau = \\inf\\curlbrac{i\\in N : \\cup_{j\\leq i} C_j = \\curlbrac{1,2,3,4,5}}$, we would like to find $\\E{\\tau}$\n",
    "- We define $\\tau_n$ for $n\\in\\curlbrac{1,2,3,4,5}$ as the stopping time to get the $n$-th distinct ticket \n",
    "- For $\\tau_1$, we have:\n",
    "    \n",
    "$$\\E{\\tau_1} = 1$$\n",
    "\n",
    "- Now we try to calculate the expected value of the difference of two stopping times $\\tau_2$ and $\\tau_1$, suppose $c_1\\in X$ was the first coupon received:\n",
    "\n",
    "\n",
    "$$\\begin{eqnarray}\n",
    "\\E{\\tau_2 - \\tau_1}\n",
    "&=& \\sum_{i=1}^{\\infty}i\\cdot\\prob{\\curlbrac{C_i \\in X\\backslash\\curlbrac{c_1}}\\cap\\bigcap_{j>i}\\curlbrac{C_j\\in\\curlbrac{c_1}}}\\\\\n",
    "&=& \\sum_{i=1}^{\\infty}i\\cdot\\prob{C \\in X\\backslash\\curlbrac{c_1}}\\cdot\\prob{\\bigcap_{j>i}\\curlbrac{C\\in\\curlbrac{c_1}}}\\\\\n",
    "&=& \\sum_{i=1}^{\\infty}i\\cdot\\prob{C \\in X\\backslash\\curlbrac{c_1}}\\cdot\\prod_{j>i}\\prob{C\\in\\curlbrac{c_1}}\\\\\n",
    "&=& \\sum_{i=1}^{\\infty}i\\cdot\\frac{4}{5}\\cdot\\brac{\\frac{1}{5}}^{i-1}\\\\\n",
    "&=& \\frac{4}{5}\\sum_{i=0}^\\infty i\\cdot\\brac{\\frac{1}{5}}^{i}\\\\\n",
    "&=& \\frac{4}{5}\\frac{1}{\\brac{\\frac{4}{5}}^2}\\\\\n",
    "&=& \\frac{5}{4}\n",
    "\\end{eqnarray}$$\n",
    "\n",
    "- We can generalise this for $n$ where $c_1,\\dots,c_{n-1}$ are the first $n-1$ distinct received coupons:\n",
    "    \n",
    "$$\\begin{eqnarray}\n",
    "\\E{\\tau_n - \\tau_{n-1}}\n",
    "&=& \\sum_{i=1}^{\\infty}i\\cdot\\prob{\\curlbrac{C_i \\in X\\backslash\\curlbrac{c_1,\\dots,c_{n-1}}}\\cap\\bigcap_{j>i}\\curlbrac{C_j\\in\\curlbrac{c_1,\\dots,c_{n-1}}}}\\\\\n",
    "&=& \\sum_{i=1}^{\\infty}i\\cdot\\prob{C \\in X\\backslash\\curlbrac{c_1,\\dots,c_{n-1}}}\\cdot\\prob{\\bigcap_{j>i}\\curlbrac{C\\in\\curlbrac{c_1,\\dots,c_{n-1}}}}\\\\\n",
    "&=& \\sum_{i=1}^{\\infty}i\\cdot\\prob{C \\in X\\backslash\\curlbrac{c_1,\\dots,c_{n-1}}}\\cdot\\prod_{j>i}\\prob{C\\in\\curlbrac{c_1,\\dots,c_{n-1}}}\\\\\n",
    "&=& \\sum_{i=1}^\\infty i \\cdot\\frac{5-n+1}{5}\\cdot\\brac{\\frac{n-1}{5}}^{i-1}\\\\\n",
    "&=& \\frac{5-n+1}{5}\\sum_{i=1}^\\infty i\\cdot\\brac{\\frac{n-1}{5}}^{i}\\\\\n",
    "&=& \\frac{5-n+1}{5}\\frac{1}{\\brac{\\frac{5-n+1}{5}}^2}\\\\\n",
    "&=& \\frac{5}{5-n+1}\n",
    "\\end{eqnarray}$$\n",
    "\n",
    "- Therefore:\n",
    "$$\\begin{eqnarray}\n",
    "\\E{\\tau} \n",
    "&=& \\E{\\tau_5}\\\\\n",
    "&=& \\E{\\tau_1} + \\E{\\tau_2-\\tau_1} + \\E{\\tau_3-\\tau_2} + \\E{\\tau_4 - \\tau_3} + \\E{\\tau_5 - \\tau_4}\\\\\n",
    "&=& 1 + \\frac{5}{4} + \\frac{5}{3} + \\frac{5}{2} + \\frac{5}{1}\\\\\n",
    "&=& \\frac{12 + 15 + 20 + 30 + 60}{12}\\\\\n",
    "&=& \\frac{137}{12}\n",
    "\\end{eqnarray}$$"
   ]
  },
  {
   "cell_type": "code",
   "execution_count": 7,
   "metadata": {},
   "outputs": [
    {
     "name": "stdout",
     "output_type": "stream",
     "text": [
      "Average number of boxes to receive the prize: 11.42\n"
     ]
    }
   ],
   "source": [
    "print(f'Average number of boxes to receive the prize: {137/12:.2f}')"
   ]
  },
  {
   "cell_type": "markdown",
   "metadata": {},
   "source": [
    "### Notes 14\n",
    "- Trick is to work with differences of stopping times to get independent probabilities"
   ]
  },
  {
   "cell_type": "markdown",
   "metadata": {},
   "source": [
    "## Question 15 - The Theater Row\n",
    "\n",
    "Eight eligible bachelors and seven beautiful models happen randomly to have purchased single seats in the same 15-seat row of a theater. On the average, how many pairs of adjacent seats are ticketed for marriageable couples?"
   ]
  },
  {
   "cell_type": "markdown",
   "metadata": {},
   "source": [
    "## Solution 15\n",
    "\n",
    "- We denote the random variable $S_i$ for $i \\in\\curlbrac{1,\\dots, 15}$ which is the $i$-th seat and the outcome space is $\\curlbrac{B,M}$ where $B$ is a bachelor and $M$ is a model\n",
    "- We denote the random variable $R = \\brac{S_1,\\dots,S_{15}}$ which denote the full theatre row \n",
    "- We denote the random varibale $N$ denoting the number of marriageable couples in the theatre row, we want to find $\\E{N}$\n",
    "- In the worst case scenario with all the bachelors on one side and all the models on the other side we only have $N=1$:\n",
    "\n",
    "$$R = \\brac{B,B,B,B,B,B,B,\\underbrace{B,M},M,M,M,M,M,M}$$\n",
    "\n",
    "- In the best base scenario bachelors and models sit alternatively and we have $N=14$:\n",
    "\n",
    "$$R = \\brac{\\rlap{\\underbrace{\\phantom{B,M}}}B,\\rlap{\\overbrace{\\phantom{M,B}}}M,\\rlap{\\underbrace{\\phantom{B,M}}}B,\\rlap{\\overbrace{\\phantom{M,B}}}M,\\rlap{\\underbrace{\\phantom{B,M}}}B,\\rlap{\\overbrace{\\phantom{M,B}}}M,\\rlap{\\underbrace{\\phantom{B,M}}}B,\\rlap{\\overbrace{\\phantom{M,B}}}M,\\rlap{\\underbrace{\\phantom{B,M}}}B,\\rlap{\\overbrace{\\phantom{M,B}}}M,\\rlap{\\underbrace{\\phantom{B,M}}}B,\\rlap{\\overbrace{\\phantom{M,B}}}M,\\rlap{\\underbrace{\\phantom{B,M}}}B,\\rlap{\\overbrace{\\phantom{M,B}}}M,B}$$\n",
    "\n",
    "- There are $15!$ possible combinations of the theatre row\n",
    "- Let us start with a theater row with only 3 seats, we have the following combinations:\n",
    "    - $\\brac{B,B,M}$\n",
    "    - $\\brac{B,M,B}$\n",
    "    - $\\brac{M,B,B}$\n",
    "    - In this case on average we have $\\frac{1}{3}\\cdot 1 + \\frac{1}{3}\\cdot 2 + \\frac{1}{3}\\cdot 1$ which is $\\frac{4}{3}$ couples on average"
   ]
  },
  {
   "cell_type": "markdown",
   "metadata": {},
   "source": [
    "## Question 16 - Will Second-Best be Runner-Up?\n",
    "\n",
    "A tennis tournament has 8 players. The number a player draws from a hat decides their first-round rung in the tournament ladder. \n",
    "\n",
    "Suppose that the best player always defeats the next best and the latter always defeats all the rest. The loser of the finals gets the runner-up cup. What is the chance that the second-best player wins the runner-up cup"
   ]
  },
  {
   "cell_type": "markdown",
   "metadata": {},
   "source": [
    "## Solution 16 \n",
    "\n",
    "- Let us denote the random variables $P_i$ for $i\\in\\curlbrac{1,\\dots,8}$ for the initial position for the $i$-th best player in the tournament with the outcome space $\\curlbrac{1,\\dots,8}$\n",
    "- Looking at the tournament tree, we can deduce that for $P_2$ to get the runner up position, $P_2$ cannot play $P_1$ until the final\n",
    "- Therefore, for $P_2$ to get runner up, $P_2$ and $P_1$ have to be in a differerent half branch to each other in the initial position\n",
    "- We define:\n",
    "\n",
    "$$E_p  = \n",
    "\\begin{cases}\n",
    "\\curlbrac{1,2,3,4} & \\text{if } p\\in\\curlbrac{5,6,7,8}\\\\\n",
    "\\curlbrac{5,6,7,8} & \\text{if } p\\in\\curlbrac{1,2,3,4}\n",
    "\\end{cases}$$\n",
    "\n",
    "- Hence:\n",
    "\n",
    "$$\\begin{eqnarray}\n",
    "\\prob{P_2 \\text{ is runner up}} \n",
    "&=& \\prob{\\curlbrac{P_1\\in\\curlbrac{1,2,3,4}\\cap P_2\\in\\curlbrac{5,6,7,8}}\\cup\\curlbrac{P_1\\in\\curlbrac{5,6,7,8}\\cap P_2\\in\\curlbrac{1,2,3,4}}}\\\\\n",
    "&=& \\prob{\\curlbrac{P_1 = p \\text{ for some } p\\in\\curlbrac{1,\\dots,8}}\\cap\\curlbrac{P_2\\in E_p}}\\\\\n",
    "&=& \\prob{P_1\\in\\curlbrac{1,\\dots,8}}\\cdot\\prob{P_2\\in E_p|P_1=p}\\\\\n",
    "&=& 1\\cdot\\frac{\\abs{E_p}}{\\abs{\\curlbrac{1,2,3,4,5,6,7,8}\\backslash\\curlbrac{p}}}\\\\\n",
    "&=& 1\\cdot\\frac{4}{7}\n",
    "% &=& \\prob{\\curlbrac{P_1=1,P_2=5}\\cup\\curlbrac{P_1=1,P_2=6}\\cup\\curlbrac{P_1=1,P_2=7}\\cup\\curlbrac{P_1=1,P_2=8}} + \\cdots\\\\\n",
    "% && \\cdots + \\prob{\\curlbrac{P_1=7,P_2=1}\\cup\\curlbrac{P_1=7,P_2=2}\\cup\\curlbrac{P_1=8,P_2=1}\\cup\\curlbrac{P_1=8,P_2=2}}\\\\\n",
    "% &=& \\prob{P_1=1,P_2=7} + \\prob{P_1=1,P_2=8} + \\prob{P_1=2,P_2=7} + \\prob{P_1=2,P_2=8} + \\cdots\\\\\n",
    "% && \\cdots + \\prob{P_1=7,P_2=1} + \\prob{P_1=7,P_2=2} + \\prob{P_1=8,P_2=1} + \\prob{P_1=8,P_2=2}\\\\\n",
    "% &=& 8\\cdot\\frac{6!}{8!}\\\\\n",
    "% &=& \\frac{1}{7}\n",
    "\\end{eqnarray}$$"
   ]
  },
  {
   "cell_type": "markdown",
   "metadata": {},
   "source": [
    "### Note 16\n",
    "\n",
    "- This can be generalised to a tournament with $2^n$ players then the probability would be:\n",
    "\n",
    "$$ \\prob{P_2 \\text{ is runner up}} = \\frac{2^{n-1}}{2^n -1} $$"
   ]
  },
  {
   "cell_type": "markdown",
   "metadata": {},
   "source": [
    "## Question 17 - Twin Knights\n",
    "\n",
    "a) Suppose King Arthur holds a jousting tournament where the jousts are in pairs as in a tennis tournament. See [Problem 16](#Question-16---Will-Second-Best-be-Runner-Up?) for tournament ladder. The 8 knights in the tournament are evenly matched and they include the twin knights Balin and Balan. What is the chance that the twins meet in a match during the tournament?\n",
    "\n",
    "b) Replace 8 by 2$^\\text{n}$ in the above problem. Now what is the chance they meet?"
   ]
  },
  {
   "cell_type": "markdown",
   "metadata": {},
   "source": [
    "## Solution 17\n",
    "\n",
    "- Suppose that $D$ is the random variable denoting the depth of the tree they meet at with the outcome space $\\curlbrac{1,2,3}$ where if $D=1$ then Balin and Balan meet in the first game\n",
    "- Let $P_1, P_2$ be the random variables denoting the starting positions of Balin and Balan respectively with the outcome space $\\curlbrac{1,\\dots,8}$\n",
    "- Let $Q$ be the random variable with the outcome space $\\curlbrac{1,2,3}$ if they are in the same smallest $2^{1-Q}$ part of the initial ladder. For example if $P_1=1$ and $P_2=2$ then $Q=3$ as they are in the same quarter of the intial ladder $\\brac{2^{-2}}$ however if $P_1=1$ and $P_2=3$ then $Q=2$ as they are in the same half of the intial ladder $\\brac{2^{-1}}$\n",
    "- Finally the last random variables we define are $B_{i,j}$ for $i=1,2$ and $j=1,2,3$ with outcome space $\\curlbrac{W,L}$ denoting if Balin $\\brac{i=1}$ and Balan $\\brac{i=2}$ have won or lost respectively at the $j$-th depth\n",
    "\n",
    "$$\\begin{eqnarray}\n",
    "\\prob{\\curlbrac{D=1}\\cup\\curlbrac{D=2}\\cup\\curlbrac{D=3}}\n",
    "&=& \\prob{\\brac{\\curlbrac{D=1}\\cup\\curlbrac{D=2}\\cup\\curlbrac{D=3}}\\cap\\brac{\\curlbrac{Q=3}\\cup\\curlbrac{Q=2}\\cup\\curlbrac{Q=1}}}\\\\\n",
    "&=& \\prob{D=1,Q=3} + \\prob{D=2,Q=2} + \\prob{D=3,Q=1}\\\\\n",
    "&=& \\prob{D=1|Q=3}\\cdot\\prob{Q=3} + \\prob{D=2|Q=2}\\cdot\\prob{Q=2} + \\prob{D=3|Q=1}\\cdot\\prob{Q=1}\\\\\n",
    "&=& \\sum_{d=1}^3\\prob{\\bigcap_{i\\leq2, j < d}\\curlbrac{B_{i,j} = W}|Q=4-d}\\cdot\\prob{Q=4-d}\\\\\n",
    "&=& \\frac{1}{2}^0\\cdot\\frac{1}{7} + \\frac{1}{2}^2\\cdot\\frac{2}{7} + \\frac{1}{2}^4\\cdot\\frac{4}{7}\\\\\n",
    "&=& \\frac{4}{28} + \\frac{2}{28} + \\frac{1}{28}\\\\\n",
    "&=& \\frac{1}{4}\n",
    "\\end{eqnarray}$$\n",
    "\n",
    "- For (b), we can generalise all of the above to have $2^n$ participants for some $n\\in\\N$.\n",
    "- $D$ now has the outcome space $\\curlbrac{1,\\dots,n}$\n",
    "- $P_1,P_2$ have the outcome space $\\curlbrac{1,\\dots,2^n}$\n",
    "- $Q$ has the outcome space $\\curlbrac{1,\\dots,n}$ representing if $P_1$ and $P_2$ share the same $2^{1-Q}$ part of the initial ladder\n",
    "- Therefore:\n",
    "\n",
    "$$\\begin{eqnarray}\n",
    "\\prob{\\bigcup_{d\\leq n} \\curlbrac{D=d}}\n",
    "&=& \\sum_{d=1}^n\\prob{D=d,Q=n+1-d}\\\\\n",
    "&=& \\sum_{d=1}^n\\prob{\\bigcap_{i\\leq 2, j < d}\\curlbrac{B_{i,j} = W}|Q=n+1-d}\\cdot\\prob{Q=n+1-d}\\\\\n",
    "&=& \\sum_{d=1}^n\\prob{\\bigcap_{j < d}\\curlbrac{B_{1,j} = W}|Q=n+1-d}\\cdot\\prob{\\bigcap_{j < d}\\curlbrac{B_{2,j} = W}|Q=n+1-d}\\cdot\\prob{Q=n+1-d}\\\\\n",
    "&=& \\sum_{d=1}^n\\brac{\\frac{1}{2}}^{d-1}\\cdot\\brac{\\frac{1}{2}}^{d-1}\\cdot\\prob{Q=n+1-d}\\\\\n",
    "&=& \\sum_{d=1}^n\\brac{\\frac{1}{4}}^{d-1}\\cdot\\frac{2^{d-1}}{2^n-1}\\\\\n",
    "&=& \\frac{1}{2^n-1}\\cdot\\sum_{d=1}^n\\frac{1}{2^{d-1}}\\\\\n",
    "&=& \\frac{1}{2^n-1}\\cdot\\sum_{d=0}^{n-1}\\brac{\\frac{1}{2}}^d\\\\\n",
    "&=& \\frac{1}{2^n-1}\\cdot\\frac{1-\\brac{\\frac{1}{2}}^n}{1-\\frac{1}{2}}\\\\\n",
    "&=& \\frac{1}{2^n-1}\\cdot\\frac{2^n-1}{2^n-2^{n-1}}\\\\\n",
    "&=& \\frac{1}{2^n-2^{n-1}}\\\\\n",
    "&=& \\frac{1}{2^{n-1}\\brac{2-1}}\\\\\n",
    "&=& \\frac{1}{2^{n-1}}\\\\\n",
    "\\end{eqnarray}$$"
   ]
  },
  {
   "cell_type": "markdown",
   "metadata": {},
   "source": [
    "### Note 17\n",
    "- This was a particularly difficult question to frame mathematically"
   ]
  },
  {
   "cell_type": "markdown",
   "metadata": {},
   "source": [
    "## Question 18 - An Even Split at Coin Tossing\n",
    "\n",
    "When 100 coins are tossed, what is the probability that exactly 50 are heads?"
   ]
  },
  {
   "cell_type": "markdown",
   "metadata": {},
   "source": [
    "## Solution 18\n",
    "\n",
    "- Suppose $C$ is a Bernoulli random variable such that $\\prob{C=1} = \\prob{C=0} = 0.5$ where $1$ represents heads and $0$ represents tails\n",
    "- Let $C_i$ for $i\\leq 100$ be independently, identically distributed with the same distribution as $C$\n",
    "- Then $X = \\sum_{i=1}^100 C_i$ is a binomial random variable with $n=100$ and $p=0.5$\n",
    "- We would like to find $\\prob{X = 50}$ to get the probability of landing exactly $k=50$ heads:\n",
    "\n",
    "$$ \\begin{eqnarray}\n",
    "\\prob{X = 50}\n",
    "&=& {n \\choose k}\\cdot p^{n}\\cdot\\brac{1-p}^{n-k}\\\\\n",
    "&=& {100 \\choose 50}\\cdot 0.5^{50} \\cdot 0.5^{100-50}\\\\\n",
    "&=& {100 \\choose 50}\\cdot 0.5^{100}\n",
    "\\end{eqnarray}$$"
   ]
  },
  {
   "cell_type": "code",
   "execution_count": 13,
   "metadata": {},
   "outputs": [
    {
     "name": "stdout",
     "output_type": "stream",
     "text": [
      "Probability of landing exactly 50 heads when tossing 100 coins is 0.0796\n"
     ]
    }
   ],
   "source": [
    "prob = pd.np.math.factorial(100) / pd.np.math.factorial(50) ** 2 * 0.5 ** 100\n",
    "print(f'Probability of landing exactly 50 heads when tossing 100 coins is {prob:.4f}')"
   ]
  }
 ],
 "metadata": {
  "kernelspec": {
   "display_name": "Python 3",
   "language": "python",
   "name": "python3"
  },
  "language_info": {
   "codemirror_mode": {
    "name": "ipython",
    "version": 3
   },
   "file_extension": ".py",
   "mimetype": "text/x-python",
   "name": "python",
   "nbconvert_exporter": "python",
   "pygments_lexer": "ipython3",
   "version": "3.7.3"
  }
 },
 "nbformat": 4,
 "nbformat_minor": 2
}
